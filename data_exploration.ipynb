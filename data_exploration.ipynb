{
 "cells": [
  {
   "cell_type": "code",
   "execution_count": 95,
   "metadata": {},
   "outputs": [],
   "source": [
    "import os\n",
    "import warnings\n",
    "import pandas as pd\n",
    "import numpy as np\n",
    "import re \n",
    "\n",
    "import nltk\n",
    "from nltk.tokenize import sent_tokenize, word_tokenize, regexp, RegexpTokenizer\n",
    "from nltk.corpus import stopwords\n",
    "from nltk.stem.wordnet import WordNetLemmatizer\n",
    "\n",
    "warnings.filterwarnings('ignore')"
   ]
  },
  {
   "cell_type": "code",
   "execution_count": 99,
   "metadata": {},
   "outputs": [
    {
     "name": "stderr",
     "output_type": "stream",
     "text": [
      "[nltk_data] Downloading package stopwords to\n",
      "[nltk_data]     /Users/chantal/nltk_data...\n",
      "[nltk_data]   Package stopwords is already up-to-date!\n",
      "[nltk_data] Downloading package wordnet to /Users/chantal/nltk_data...\n",
      "[nltk_data]   Unzipping corpora/wordnet.zip.\n"
     ]
    },
    {
     "data": {
      "text/plain": [
       "True"
      ]
     },
     "execution_count": 99,
     "metadata": {},
     "output_type": "execute_result"
    }
   ],
   "source": [
    "import ssl\n",
    "\n",
    "try:\n",
    "    _create_unverified_https_context = ssl._create_unverified_context\n",
    "except AttributeError:\n",
    "    pass\n",
    "else:\n",
    "    ssl._create_default_https_context = _create_unverified_https_context\n",
    "\n",
    "# need to only download only once\n",
    "nltk.download('stopwords')\n",
    "nltk.download('wordnet')"
   ]
  },
  {
   "cell_type": "markdown",
   "metadata": {},
   "source": [
    "# Stats"
   ]
  },
  {
   "cell_type": "markdown",
   "metadata": {},
   "source": [
    "Collect all the datasets"
   ]
  },
  {
   "cell_type": "code",
   "execution_count": 65,
   "metadata": {},
   "outputs": [
    {
     "data": {
      "text/plain": [
       "{'Scaling': 'Scaling_complete.csv',\n",
       " 'Rehab': 'Rehab_complete.csv',\n",
       " 'WASH': 'WASH_complete.csv',\n",
       " 'ADIPP': 'ADIPP_complete.csv',\n",
       " 'NCDS': 'NCDS_complete.csv',\n",
       " 'VitaminD': 'VitaminD_complete.csv'}"
      ]
     },
     "execution_count": 65,
     "metadata": {},
     "output_type": "execute_result"
    }
   ],
   "source": [
    "reviews = {}\n",
    "\n",
    "# assuming naming follows 'type' + '_complete.csv' structure \n",
    "for f in os.listdir('data/'):\n",
    "    if not f.startswith('.'):\n",
    "        key = re.split(r'_', f)\n",
    "        reviews[key[0]] = f\n",
    "        \n",
    "reviews"
   ]
  },
  {
   "cell_type": "code",
   "execution_count": null,
   "metadata": {},
   "outputs": [],
   "source": [
    "PATH = os.path.abspath('data')\n",
    "\n",
    "for key, dataset in reviews.items():\n",
    "    reviews[key] = pd.read_csv(os.path.join(PATH, dataset), encoding='latin1')"
   ]
  },
  {
   "cell_type": "code",
   "execution_count": 72,
   "metadata": {},
   "outputs": [
    {
     "data": {
      "text/html": [
       "<div>\n",
       "<style scoped>\n",
       "    .dataframe tbody tr th:only-of-type {\n",
       "        vertical-align: middle;\n",
       "    }\n",
       "\n",
       "    .dataframe tbody tr th {\n",
       "        vertical-align: top;\n",
       "    }\n",
       "\n",
       "    .dataframe thead th {\n",
       "        text-align: right;\n",
       "    }\n",
       "</style>\n",
       "<table border=\"1\" class=\"dataframe\">\n",
       "  <thead>\n",
       "    <tr style=\"text-align: right;\">\n",
       "      <th></th>\n",
       "      <th>Title</th>\n",
       "      <th>Authors</th>\n",
       "      <th>Abstract</th>\n",
       "      <th>Published Year</th>\n",
       "      <th>Published Month</th>\n",
       "      <th>Journal</th>\n",
       "      <th>Volume</th>\n",
       "      <th>Issue</th>\n",
       "      <th>Pages</th>\n",
       "      <th>Accession Number</th>\n",
       "      <th>DOI</th>\n",
       "      <th>Ref</th>\n",
       "      <th>Covidence #</th>\n",
       "      <th>Study</th>\n",
       "      <th>Notes</th>\n",
       "      <th>Tags</th>\n",
       "      <th>Inclusion</th>\n",
       "    </tr>\n",
       "  </thead>\n",
       "  <tbody>\n",
       "    <tr>\n",
       "      <th>0</th>\n",
       "      <td>Is this scaling nonlinear? [arXiv]</td>\n",
       "      <td>Leitao, J.C.; Miotto, J.M.; Gerlach, M.; Altma...</td>\n",
       "      <td>One of the most celebrated findings in complex...</td>\n",
       "      <td>2016</td>\n",
       "      <td>NaN</td>\n",
       "      <td>arXiv</td>\n",
       "      <td>NaN</td>\n",
       "      <td>NaN</td>\n",
       "      <td>11-pp.</td>\n",
       "      <td>NaN</td>\n",
       "      <td>NaN</td>\n",
       "      <td>NaN</td>\n",
       "      <td>#9879</td>\n",
       "      <td>Leitao 2016</td>\n",
       "      <td>Takhliq Amir (2019-07-19 07:24:56)(Select): I ...</td>\n",
       "      <td>NaN</td>\n",
       "      <td>0</td>\n",
       "    </tr>\n",
       "    <tr>\n",
       "      <th>1</th>\n",
       "      <td>Scaling of foreign attractiveness for countrie...</td>\n",
       "      <td>Bojic, Iva; Belyi, Alexander; Ratti, Carlo; So...</td>\n",
       "      <td>People's behavior on online social networks, w...</td>\n",
       "      <td>2016</td>\n",
       "      <td>NaN</td>\n",
       "      <td>Applied Geography</td>\n",
       "      <td>73</td>\n",
       "      <td>NaN</td>\n",
       "      <td>47-52</td>\n",
       "      <td>NaN</td>\n",
       "      <td>10.1016/j.apgeog.2016.06.006</td>\n",
       "      <td>NaN</td>\n",
       "      <td>#4381</td>\n",
       "      <td>Bojic 2016</td>\n",
       "      <td>Takhliq Amir (2019-07-18 13:50:05)(Select): Th...</td>\n",
       "      <td>NaN</td>\n",
       "      <td>0</td>\n",
       "    </tr>\n",
       "    <tr>\n",
       "      <th>2</th>\n",
       "      <td>Coastal vs inland sensitivity to desertificati...</td>\n",
       "      <td>Salvati, Luca; Smiraglia, Daniela; Bajocco, So...</td>\n",
       "      <td>The present study assesses the spatial distrib...</td>\n",
       "      <td>2015</td>\n",
       "      <td>NaN</td>\n",
       "      <td>Rendiconti Lincei</td>\n",
       "      <td>26</td>\n",
       "      <td>NaN</td>\n",
       "      <td>571-576</td>\n",
       "      <td>NaN</td>\n",
       "      <td>10.1007/s12210-014-0339-4</td>\n",
       "      <td>NaN</td>\n",
       "      <td>#6536</td>\n",
       "      <td>Salvati 2015</td>\n",
       "      <td>NaN</td>\n",
       "      <td>NaN</td>\n",
       "      <td>0</td>\n",
       "    </tr>\n",
       "    <tr>\n",
       "      <th>3</th>\n",
       "      <td>Earthquake hazard and risk assessment based on...</td>\n",
       "      <td>Kossobokov, V.G.; Nekrasova, A.K.</td>\n",
       "      <td>We apply the general concept of seismic risk a...</td>\n",
       "      <td>2018</td>\n",
       "      <td>NaN</td>\n",
       "      <td>Natural Hazards</td>\n",
       "      <td>93</td>\n",
       "      <td>3</td>\n",
       "      <td>1435-49</td>\n",
       "      <td>NaN</td>\n",
       "      <td>10.1007/s11069-018-3359-z</td>\n",
       "      <td>NaN</td>\n",
       "      <td>#9852</td>\n",
       "      <td>Kossobokov 2018</td>\n",
       "      <td>NaN</td>\n",
       "      <td>NaN</td>\n",
       "      <td>0</td>\n",
       "    </tr>\n",
       "    <tr>\n",
       "      <th>4</th>\n",
       "      <td>Dynamic evaluation of seismic hazard and risks...</td>\n",
       "      <td>Kossobokov, Vladimir G.; Nekrasova, Anastasia</td>\n",
       "      <td>We continue applying the general concept of se...</td>\n",
       "      <td>2016</td>\n",
       "      <td>NaN</td>\n",
       "      <td>American Geophysical Union Fall Meeting</td>\n",
       "      <td>2016</td>\n",
       "      <td>NaN</td>\n",
       "      <td>NaN</td>\n",
       "      <td>NaN</td>\n",
       "      <td>NaN</td>\n",
       "      <td>NaN</td>\n",
       "      <td>#9495</td>\n",
       "      <td>Kossobokov 2016</td>\n",
       "      <td>NaN</td>\n",
       "      <td>NaN</td>\n",
       "      <td>0</td>\n",
       "    </tr>\n",
       "  </tbody>\n",
       "</table>\n",
       "</div>"
      ],
      "text/plain": [
       "                                               Title  \\\n",
       "0                 Is this scaling nonlinear? [arXiv]   \n",
       "1  Scaling of foreign attractiveness for countrie...   \n",
       "2  Coastal vs inland sensitivity to desertificati...   \n",
       "3  Earthquake hazard and risk assessment based on...   \n",
       "4  Dynamic evaluation of seismic hazard and risks...   \n",
       "\n",
       "                                             Authors  \\\n",
       "0  Leitao, J.C.; Miotto, J.M.; Gerlach, M.; Altma...   \n",
       "1  Bojic, Iva; Belyi, Alexander; Ratti, Carlo; So...   \n",
       "2  Salvati, Luca; Smiraglia, Daniela; Bajocco, So...   \n",
       "3                  Kossobokov, V.G.; Nekrasova, A.K.   \n",
       "4      Kossobokov, Vladimir G.; Nekrasova, Anastasia   \n",
       "\n",
       "                                            Abstract  Published Year  \\\n",
       "0  One of the most celebrated findings in complex...            2016   \n",
       "1  People's behavior on online social networks, w...            2016   \n",
       "2  The present study assesses the spatial distrib...            2015   \n",
       "3  We apply the general concept of seismic risk a...            2018   \n",
       "4  We continue applying the general concept of se...            2016   \n",
       "\n",
       "  Published Month                                  Journal Volume Issue  \\\n",
       "0             NaN                                    arXiv    NaN   NaN   \n",
       "1             NaN                        Applied Geography     73   NaN   \n",
       "2             NaN                        Rendiconti Lincei     26   NaN   \n",
       "3             NaN                          Natural Hazards     93     3   \n",
       "4             NaN  American Geophysical Union Fall Meeting   2016   NaN   \n",
       "\n",
       "     Pages  Accession Number                           DOI  Ref Covidence #  \\\n",
       "0   11-pp.               NaN                           NaN  NaN       #9879   \n",
       "1    47-52               NaN  10.1016/j.apgeog.2016.06.006  NaN       #4381   \n",
       "2  571-576               NaN     10.1007/s12210-014-0339-4  NaN       #6536   \n",
       "3  1435-49               NaN     10.1007/s11069-018-3359-z  NaN       #9852   \n",
       "4      NaN               NaN                           NaN  NaN       #9495   \n",
       "\n",
       "             Study                                              Notes Tags  \\\n",
       "0      Leitao 2016  Takhliq Amir (2019-07-19 07:24:56)(Select): I ...  NaN   \n",
       "1       Bojic 2016  Takhliq Amir (2019-07-18 13:50:05)(Select): Th...  NaN   \n",
       "2     Salvati 2015                                                NaN  NaN   \n",
       "3  Kossobokov 2018                                                NaN  NaN   \n",
       "4  Kossobokov 2016                                                NaN  NaN   \n",
       "\n",
       "   Inclusion  \n",
       "0          0  \n",
       "1          0  \n",
       "2          0  \n",
       "3          0  \n",
       "4          0  "
      ]
     },
     "execution_count": 72,
     "metadata": {},
     "output_type": "execute_result"
    }
   ],
   "source": [
    "reviews['Scaling'].head()"
   ]
  },
  {
   "cell_type": "markdown",
   "metadata": {},
   "source": [
    "Keep only relevant columns: Title, Abstract, Notes and Inclusion"
   ]
  },
  {
   "cell_type": "code",
   "execution_count": 74,
   "metadata": {},
   "outputs": [],
   "source": [
    "to_keep = ['Title', 'Abstract', 'Notes', 'Inclusion']\n",
    "\n",
    "for key, dataset in reviews.items():\n",
    "    reviews[key] = dataset[to_keep]"
   ]
  },
  {
   "cell_type": "code",
   "execution_count": 80,
   "metadata": {},
   "outputs": [
    {
     "data": {
      "text/html": [
       "<div>\n",
       "<style scoped>\n",
       "    .dataframe tbody tr th:only-of-type {\n",
       "        vertical-align: middle;\n",
       "    }\n",
       "\n",
       "    .dataframe tbody tr th {\n",
       "        vertical-align: top;\n",
       "    }\n",
       "\n",
       "    .dataframe thead th {\n",
       "        text-align: right;\n",
       "    }\n",
       "</style>\n",
       "<table border=\"1\" class=\"dataframe\">\n",
       "  <thead>\n",
       "    <tr style=\"text-align: right;\">\n",
       "      <th></th>\n",
       "      <th>Title</th>\n",
       "      <th>Abstract</th>\n",
       "      <th>Notes</th>\n",
       "      <th>Inclusion</th>\n",
       "    </tr>\n",
       "  </thead>\n",
       "  <tbody>\n",
       "    <tr>\n",
       "      <th>0</th>\n",
       "      <td>Is this scaling nonlinear? [arXiv]</td>\n",
       "      <td>One of the most celebrated findings in complex...</td>\n",
       "      <td>Takhliq Amir (2019-07-19 07:24:56)(Select): I ...</td>\n",
       "      <td>0</td>\n",
       "    </tr>\n",
       "    <tr>\n",
       "      <th>1</th>\n",
       "      <td>Scaling of foreign attractiveness for countrie...</td>\n",
       "      <td>People's behavior on online social networks, w...</td>\n",
       "      <td>Takhliq Amir (2019-07-18 13:50:05)(Select): Th...</td>\n",
       "      <td>0</td>\n",
       "    </tr>\n",
       "    <tr>\n",
       "      <th>2</th>\n",
       "      <td>Coastal vs inland sensitivity to desertificati...</td>\n",
       "      <td>The present study assesses the spatial distrib...</td>\n",
       "      <td>NaN</td>\n",
       "      <td>0</td>\n",
       "    </tr>\n",
       "    <tr>\n",
       "      <th>3</th>\n",
       "      <td>Earthquake hazard and risk assessment based on...</td>\n",
       "      <td>We apply the general concept of seismic risk a...</td>\n",
       "      <td>NaN</td>\n",
       "      <td>0</td>\n",
       "    </tr>\n",
       "    <tr>\n",
       "      <th>4</th>\n",
       "      <td>Dynamic evaluation of seismic hazard and risks...</td>\n",
       "      <td>We continue applying the general concept of se...</td>\n",
       "      <td>NaN</td>\n",
       "      <td>0</td>\n",
       "    </tr>\n",
       "  </tbody>\n",
       "</table>\n",
       "</div>"
      ],
      "text/plain": [
       "                                               Title  \\\n",
       "0                 Is this scaling nonlinear? [arXiv]   \n",
       "1  Scaling of foreign attractiveness for countrie...   \n",
       "2  Coastal vs inland sensitivity to desertificati...   \n",
       "3  Earthquake hazard and risk assessment based on...   \n",
       "4  Dynamic evaluation of seismic hazard and risks...   \n",
       "\n",
       "                                            Abstract  \\\n",
       "0  One of the most celebrated findings in complex...   \n",
       "1  People's behavior on online social networks, w...   \n",
       "2  The present study assesses the spatial distrib...   \n",
       "3  We apply the general concept of seismic risk a...   \n",
       "4  We continue applying the general concept of se...   \n",
       "\n",
       "                                               Notes  Inclusion  \n",
       "0  Takhliq Amir (2019-07-19 07:24:56)(Select): I ...          0  \n",
       "1  Takhliq Amir (2019-07-18 13:50:05)(Select): Th...          0  \n",
       "2                                                NaN          0  \n",
       "3                                                NaN          0  \n",
       "4                                                NaN          0  "
      ]
     },
     "execution_count": 80,
     "metadata": {},
     "output_type": "execute_result"
    }
   ],
   "source": [
    "reviews['Scaling'].head()"
   ]
  },
  {
   "cell_type": "markdown",
   "metadata": {},
   "source": [
    "Concatenate Title and Abstract fields"
   ]
  },
  {
   "cell_type": "code",
   "execution_count": 88,
   "metadata": {},
   "outputs": [],
   "source": [
    "for key, dataset in reviews.items():\n",
    "    reviews[key]['All_Text'] = reviews[key].apply(lambda x:\n",
    "                                                         f\"{x['Title']} {x['Abstract']}\",\n",
    "                                                         axis = 1)"
   ]
  },
  {
   "cell_type": "markdown",
   "metadata": {},
   "source": [
    "Clean up and preprocess text: remove special characters, punctuation, tokenize, lemmatize, remove any repeated information (e.g., headings), replace NaNs with 0s"
   ]
  },
  {
   "cell_type": "code",
   "execution_count": 91,
   "metadata": {},
   "outputs": [],
   "source": [
    "def clean_text(s):\n",
    "    s = s.str.lower()                         # put to lowercase for homogeneity    \n",
    "    s = s.str.replace(r'_', ' ')              # remove underscores from the notes\n",
    "    s = s.str.replace(r'\\W', ' ')             # remove punctutation\n",
    "    stop = set(stopwords.words('english'))    # define stop words\n",
    "    lemmatizer = WordNetLemmatizer()          # lemmatize - a lot of repeat words\n",
    "    return s.apply(lambda x: [lemmatizer.lemmatize(word, 'v') \n",
    "                              for word in x.split() \n",
    "                              if word not in stop]) # remove stopwords"
   ]
  },
  {
   "cell_type": "code",
   "execution_count": 103,
   "metadata": {},
   "outputs": [],
   "source": [
    "for key, dataset in reviews.items():\n",
    "    reviews[key][['All_Text']].apply(lambda x: clean_text(x))"
   ]
  },
  {
   "cell_type": "code",
   "execution_count": 112,
   "metadata": {},
   "outputs": [
    {
     "data": {
      "text/html": [
       "<div>\n",
       "<style scoped>\n",
       "    .dataframe tbody tr th:only-of-type {\n",
       "        vertical-align: middle;\n",
       "    }\n",
       "\n",
       "    .dataframe tbody tr th {\n",
       "        vertical-align: top;\n",
       "    }\n",
       "\n",
       "    .dataframe thead th {\n",
       "        text-align: right;\n",
       "    }\n",
       "</style>\n",
       "<table border=\"1\" class=\"dataframe\">\n",
       "  <thead>\n",
       "    <tr style=\"text-align: right;\">\n",
       "      <th></th>\n",
       "      <th>All_Text</th>\n",
       "    </tr>\n",
       "  </thead>\n",
       "  <tbody>\n",
       "    <tr>\n",
       "      <th>0</th>\n",
       "      <td>[scale, nonlinear, arxiv, one, celebrate, find...</td>\n",
       "    </tr>\n",
       "    <tr>\n",
       "      <th>1</th>\n",
       "      <td>[scale, foreign, attractiveness, countries, st...</td>\n",
       "    </tr>\n",
       "    <tr>\n",
       "      <th>2</th>\n",
       "      <td>[coastal, vs, inland, sensitivity, desertifica...</td>\n",
       "    </tr>\n",
       "    <tr>\n",
       "      <th>3</th>\n",
       "      <td>[earthquake, hazard, risk, assessment, base, u...</td>\n",
       "    </tr>\n",
       "    <tr>\n",
       "      <th>4</th>\n",
       "      <td>[dynamic, evaluation, seismic, hazard, risk, b...</td>\n",
       "    </tr>\n",
       "    <tr>\n",
       "      <th>...</th>\n",
       "      <td>...</td>\n",
       "    </tr>\n",
       "    <tr>\n",
       "      <th>10687</th>\n",
       "      <td>[empirical, analysis, connection, power, law, ...</td>\n",
       "    </tr>\n",
       "    <tr>\n",
       "      <th>10688</th>\n",
       "      <td>[positive, negative, feedbacks, free, scale, p...</td>\n",
       "    </tr>\n",
       "    <tr>\n",
       "      <th>10689</th>\n",
       "      <td>[growth, urban, extent, allometric, analysis, ...</td>\n",
       "    </tr>\n",
       "    <tr>\n",
       "      <th>10690</th>\n",
       "      <td>[influenza, pneumonia, mortality, 66, large, c...</td>\n",
       "    </tr>\n",
       "    <tr>\n",
       "      <th>All_Text</th>\n",
       "      <td>[nan, nan]</td>\n",
       "    </tr>\n",
       "  </tbody>\n",
       "</table>\n",
       "<p>10692 rows × 1 columns</p>\n",
       "</div>"
      ],
      "text/plain": [
       "                                                   All_Text\n",
       "0         [scale, nonlinear, arxiv, one, celebrate, find...\n",
       "1         [scale, foreign, attractiveness, countries, st...\n",
       "2         [coastal, vs, inland, sensitivity, desertifica...\n",
       "3         [earthquake, hazard, risk, assessment, base, u...\n",
       "4         [dynamic, evaluation, seismic, hazard, risk, b...\n",
       "...                                                     ...\n",
       "10687     [empirical, analysis, connection, power, law, ...\n",
       "10688     [positive, negative, feedbacks, free, scale, p...\n",
       "10689     [growth, urban, extent, allometric, analysis, ...\n",
       "10690     [influenza, pneumonia, mortality, 66, large, c...\n",
       "All_Text                                         [nan, nan]\n",
       "\n",
       "[10692 rows x 1 columns]"
      ]
     },
     "execution_count": 112,
     "metadata": {},
     "output_type": "execute_result"
    }
   ],
   "source": [
    "reviews['Scaling'][['All_Text']].apply(lambda x: clean_text(x))"
   ]
  },
  {
   "cell_type": "markdown",
   "metadata": {},
   "source": [
    "Count average length of abstracts, number of abstracts per dataset, count number of notes, maybe some simple correlations? "
   ]
  },
  {
   "cell_type": "markdown",
   "metadata": {},
   "source": [
    "# Keyword Extraction"
   ]
  },
  {
   "cell_type": "code",
   "execution_count": 66,
   "metadata": {},
   "outputs": [],
   "source": []
  },
  {
   "cell_type": "code",
   "execution_count": null,
   "metadata": {},
   "outputs": [],
   "source": []
  }
 ],
 "metadata": {
  "kernelspec": {
   "display_name": "Python 3",
   "language": "python",
   "name": "python3"
  },
  "language_info": {
   "codemirror_mode": {
    "name": "ipython",
    "version": 3
   },
   "file_extension": ".py",
   "mimetype": "text/x-python",
   "name": "python",
   "nbconvert_exporter": "python",
   "pygments_lexer": "ipython3",
   "version": "3.7.1"
  }
 },
 "nbformat": 4,
 "nbformat_minor": 2
}
