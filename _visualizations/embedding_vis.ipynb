{
 "cells": [
  {
   "cell_type": "code",
   "execution_count": 1,
   "metadata": {},
   "outputs": [
    {
     "data": {
      "text/plain": [
       "'/Users/chantal/Desktop/systematic_review/abstract_env/bin/python'"
      ]
     },
     "execution_count": 1,
     "metadata": {},
     "output_type": "execute_result"
    }
   ],
   "source": [
    "import sys\n",
    "sys.executable"
   ]
  },
  {
   "cell_type": "code",
   "execution_count": 2,
   "metadata": {},
   "outputs": [],
   "source": [
    "import torch\n",
    "from transformers import *\n",
    "import logging\n",
    "import matplotlib.pyplot as plt\n",
    "import os\n",
    "import re\n",
    "from pprint import pprint\n",
    "import pandas as pd\n",
    "%matplotlib inline"
   ]
  },
  {
   "cell_type": "markdown",
   "metadata": {},
   "source": [
    "### In this notebook, we're going to be extracting embeddings from a trained BERT model and visualizing them in different spaces"
   ]
  },
  {
   "cell_type": "markdown",
   "metadata": {},
   "source": [
    "#### 1. Load text to be visualized\n",
    "\n",
    "Here, we're going to use some keywords we automatically pulled out earlier for each topic, rather than visualizing random abstracts in full. \n",
    "\n",
    "NOTE: we can look at two different spaces: \n",
    "- where all systematic review topics are included --> this will show us whether we can build a generalizable model\n",
    "- where one topic is visualized with a focus on the lable --> this will show us how separable and informative the embeddings are per label\n",
    "\n",
    "Going to focus on the second bullet point. Also, as Delvin mentioned \"[the second label would show] whether there are similarities in the representations learned by the model for each topic, and if it’s generalizable then those representations would be similar regardless of topic\""
   ]
  },
  {
   "cell_type": "code",
   "execution_count": 3,
   "metadata": {},
   "outputs": [],
   "source": [
    "# read in each dataset into a dictionary\n",
    "reviews = {}\n",
    "\n",
    "# assuming naming follows 'type' + '_keywords.csv' structure \n",
    "for f in os.listdir('../data/keywords/'):\n",
    "    if not f.startswith('.'):\n",
    "        key = re.split(r'_', f)\n",
    "        reviews[key[0]+'_'+key[1]] = f\n",
    "        \n",
    "PATH = os.path.abspath('../data/keywords/')\n",
    "\n",
    "for key, dataset in reviews.items():\n",
    "    reviews[key] = pd.read_csv(os.path.join(PATH, dataset), names='0', encoding='latin1')\n",
    "    reviews[key] = sorted(set(str(reviews[key]['0']).split())) # removes duplicates \n",
    "    reviews[key] = [x for x in reviews[key] if x not in ['0,', 'Name:']]\n",
    "    reviews[key] = ' '.join(reviews[key])"
   ]
  },
  {
   "cell_type": "code",
   "execution_count": 4,
   "metadata": {},
   "outputs": [
    {
     "name": "stdout",
     "output_type": "stream",
     "text": [
      "{'ADIPP_0': 'acid adolescents adults aid alcohol also analysis anemia assess '\n",
      "            'associate association attitude attitudes awareness base behavior '\n",
      "            'birth blood bmi body boys breast breastfeed cancer care case '\n",
      "            'cause change child children ci clinical collect common community '\n",
      "            'compare concentrations conclusion conduct consumption control '\n",
      "            'countries cross day days deficiency demographic determine develop '\n",
      "            'development diabetes diagnosis diet dietary disease drink drug '\n",
      "            'dtype: early eat education effect evidence experience exposure '\n",
      "            'family feed female first focus follow food gestational girls '\n",
      "            'growth high higher hiv hospital household human identify impact '\n",
      "            'improve include income index infant infants infection information '\n",
      "            'intake intervention interventions interview iodine iron kg '\n",
      "            'knowledge life low mass maternal may mean measure men mg milk '\n",
      "            'model months mother need nurse nutrition nutritional obesity '\n",
      "            'object one overweight participants patients period physical '\n",
      "            'population positive practice pregnancy pregnant present '\n",
      "            'prevalence prevention program provide public quality '\n",
      "            'questionnaire range rate relate report research respectively '\n",
      "            'respondents risk rural salt sample school score sectional self '\n",
      "            'serum service sex sexual show significant significantly smoke '\n",
      "            'social status students subject supplement supplementation support '\n",
      "            'survey test three time tobacco total treatment two type vitamin '\n",
      "            'water weeks weight well women zinc',\n",
      " 'ADIPP_1': 'activity adolescent adults aim alcohol also anaemia analysis '\n",
      "            'anemia areas association base behavior behaviors binge birth '\n",
      "            'blood bmi body boys breakfast calcium care change child china '\n",
      "            'chinese ci compare conclusion conclusions conduct consume control '\n",
      "            'countries daily day deficiency determine diet drink drug dtype: '\n",
      "            'eat education effect energy estimate examine family fat female '\n",
      "            'ffq fish foods frequency fruit gender girls habit healthy height '\n",
      "            'household households hypertension identify improve include income '\n",
      "            'index insecurity intakes intervention interventions iodine iron '\n",
      "            'kg knowledge low lower male males mass maternal mean measure meat '\n",
      "            'men micronutrient milk mother need nutrient nutrition nutritional '\n",
      "            'obese obesity object objective one overweight parent participants '\n",
      "            'pattern physical population practice pregnancy pregnant program '\n",
      "            'protein public questionnaire relate report respectively rural '\n",
      "            'salt score self serum show significant significantly smoke snack '\n",
      "            'social students stunt subject substance survey three time total '\n",
      "            'two urban vegetables vitamin water weight women year zinc',\n",
      " 'NCDS_0': 'acute admission also among analysis associate asthma base birth '\n",
      "           'blood brain ca2 cancer cardiac care case cause cell cells center '\n",
      "           'change children chronic ci clinical common compare conclusions '\n",
      "           'control data day days death decrease department develop diabetes '\n",
      "           'diagnose diagnosis discharge disease diseases disorder dose drug '\n",
      "           'dtype: due ed effect emergency ems exposure expression factor '\n",
      "           'fever find first follow function genetic glucose group growth '\n",
      "           'health heart high higher hospital however identify induce '\n",
      "           'infection infections influenza injuries injury insulin lead level '\n",
      "           'life management may mean medical mice model mortality need obesity '\n",
      "           'object occur old one outbreak outcome outcomes pain patient '\n",
      "           'pediatric people perform period population positive prehospital '\n",
      "           'present pressure prevalence program protein provide radiation rat '\n",
      "           'rate receive reduce refugees relate report require research '\n",
      "           'respiratory review right risk school score screen serum service '\n",
      "           'severe show significant significantly starvation storm stroke '\n",
      "           'sudden suggest survey survival symptoms syndrome test therapy '\n",
      "           'thyroid time transport trauma traumatic treat treatment triage two '\n",
      "           'type ventricular virus visit vs weight well women year young',\n",
      " 'NCDS_1': 'access afghan aim anemia assess associate asthma background '\n",
      "           'barriers blood breast camp cancer case cause children chronic ci '\n",
      "           'clinic common community compare condition conduct control '\n",
      "           'countries data diabetes diagnose disease diseases disorder '\n",
      "           'displace dtype: factor find follow group high higher history '\n",
      "           'hospital humanitarian hypertension incidence include increase '\n",
      "           'information iraqi iron jordan lebanon level live low management '\n",
      "           'may mean medical mellitus mhealth mortality nan need neurological '\n",
      "           'non northern object one palestine palestinian patient patients '\n",
      "           'people period persons population present prevalence primary '\n",
      "           'program provide rat record relate report risk sample screen seek '\n",
      "           'service severe show speak status stress stroke support survey '\n",
      "           'syria syrian system time treatment unrwa visit war women year '\n",
      "           'years',\n",
      " 'Rehab_0': 'abuse acute also among amputation analysis apa assess associate '\n",
      "            'base bone brain bully burn cardiac care case cause center change '\n",
      "            'child ci clinical cognitive common community compare '\n",
      "            'complications conclusions control cost ct data database days '\n",
      "            'death department depression development disabilities disability '\n",
      "            'disease disorder dtype: early effect emergency experience '\n",
      "            'exposure factor family find follow fracture function group head '\n",
      "            'health hear high higher hospital identify improve increase '\n",
      "            'infants injure injuries injury lead level life limb loss '\n",
      "            'management may mean measure medical mental months mortality need '\n",
      "            'object one outcome pain participants patient pediatric people '\n",
      "            'perform period physical population post practice present '\n",
      "            'prevalence problems procedures program provide psychological '\n",
      "            'psycinfo ptsd rat rate record refugees rehabilitation relate '\n",
      "            'report require research reserve review right risk sample school '\n",
      "            'score self service severe sexual show significant significantly '\n",
      "            'social spinal stress stroke students support surgery surgical '\n",
      "            'survey symptoms syndrome tbi term test therapy time transfer '\n",
      "            'transient trauma traumatic treat treatment triage two victims '\n",
      "            'violence war well women work year years',\n",
      " 'Rehab_1': 'admission admit afghanistan among amputation amputations '\n",
      "            'associate background blast bone brain burn camp care casualties '\n",
      "            'cause children civilian civilians clinical combat common compare '\n",
      "            'conclusions condition conflict data department disability dtype: '\n",
      "            'emergency experience extremities extremity eye follow fracture '\n",
      "            'graft group hand head health high include increase injure '\n",
      "            'landmine limb lower management may mean medical military mine '\n",
      "            'mortality need nerve number object one operations orthopaedic '\n",
      "            'outcome pain patient pediatric penetrate people percent perform '\n",
      "            'period physical population present procedures provide range rate '\n",
      "            'rehabilitation relate repair report require research review score '\n",
      "            'service set severe support surgeons surgery survey three time '\n",
      "            'tissue total traumatic two upper vascular victims wind wound',\n",
      " 'Scaling_0': 'abundance across age air also among analysis approach area '\n",
      "              'assessment bacterial basin biodiversity bird care case '\n",
      "              'challenge child children cities city climate communities '\n",
      "              'community compare composition condition conservation control '\n",
      "              'cost cover density design develop development different '\n",
      "              'dispersal distribution diversity dtype: dynamics ecological '\n",
      "              'economic ecosystem effect emissions energy environmental '\n",
      "              'estimate factor find fire fish food forest genetic global '\n",
      "              'groundwater group growth habitat health high hiv however human '\n",
      "              'identify impact implementation important improve include '\n",
      "              'indicate influence information integrate interactions '\n",
      "              'intervention interventions land landscape level local low '\n",
      "              'malaria management map maternal may method methods microbial '\n",
      "              'mortality natural need network new number nutrient object one '\n",
      "              'paper patch pattern plan plant populations power present '\n",
      "              'process production program project provide quality rat '\n",
      "              'recruitment regional report research resources richness risk '\n",
      "              'river rural sample sediment service settlement significant size '\n",
      "              'social soil source spatial species stream structure suggest '\n",
      "              'support survey system systems temperature test three time tool '\n",
      "              'total treatment two type understand variability wastewater '\n",
      "              'water well within women years',\n",
      " 'Scaling_1': 'across allometric also among analysis apply area areas build '\n",
      "              'capita change characterize china countries crime density '\n",
      "              'develop development dimension distributions dtype: dynamics '\n",
      "              'economic effect elsevier emission emissions empirical energy '\n",
      "              'epidemic estimate evolution exponent exponential factor follow '\n",
      "              'form fractal function gdp general global homicides however '\n",
      "              'human increase individual land large laws length level light '\n",
      "              'linear local many may measure metropolitan network new number '\n",
      "              'object observe one paper parameter pattern people per pm2 '\n",
      "              'populations predict present process properties propose provide '\n",
      "              'range rank relationship relationships road set settlement '\n",
      "              'settlements simple small social space spatial statistical '\n",
      "              'street structure suggest superlinear system systems term test '\n",
      "              'theory three time total transportation two understand '\n",
      "              'urbanization us value variation zipf',\n",
      " 'VitaminD_0': 'acid also among analysis assess background baseline birth '\n",
      "               'blood bmd bone breast ca cancer change children ci '\n",
      "               'concentrations conclusions d3 daily data day deficiency '\n",
      "               'dietary disease dtype: early evidence factor find follow '\n",
      "               'fracture growth health high higher hiv however hydroxyvitamin '\n",
      "               'improve infant infants intake intervention iron iu lower '\n",
      "               'maternal mean measure mg milk mineral ml months mother '\n",
      "               'neonatal ng nmol object oh one outcomes participants patients '\n",
      "               'per placebo pregnancy pregnant preterm prevention randomise '\n",
      "               'receive reduce report review search show significant '\n",
      "               'significantly status subject term total treatment trials two '\n",
      "               'vs weeks weight years',\n",
      " 'VitaminD_1': '25ohd 2d3 achieve administration among assess associate '\n",
      "               'baseline birth blood bmd bolus bone breast breastfed '\n",
      "               'breastfeed ca calcium change children cholecalciferol ci '\n",
      "               'concentrations conclusion conclusions d2 day days decrease '\n",
      "               'deficient delivery density design determine difference '\n",
      "               'differences dna double dtype: evaluate exclusively feed find '\n",
      "               'first give growth healthy high hiv hypercalciuria identify ifa '\n",
      "               'improve infect intake intervention iron lactate lns low lower '\n",
      "               'mass mastitis may methylation mg micronutrient milk ml mo '\n",
      "               'month monthly morbidity mug multiple nan ng nmol normal nurse '\n",
      "               'object ohd one oral outcome plasma pneumonia post postpartum '\n",
      "               'pregnancy pregnant prevalence ratio regimen respectively risk '\n",
      "               'score season significant similar single subclinical term '\n",
      "               'therapy three treatment two use value vitd vs weeks weight wk',\n",
      " 'Washing_0': 'acute affect age also among analysis areas associate camp care '\n",
      "              'cause change child children cholera ci clinical coli community '\n",
      "              'conduct consumption contact contaminate contamination control '\n",
      "              'countries culture data day days detect diagnosis diarrhea '\n",
      "              'diarrhoea disease diseases drink dtype: earthquake education '\n",
      "              'emergency environmental epidemic epidemiological experience '\n",
      "              'exposure factor fever find first flood follow food '\n",
      "              'gastroenteritis gii group hand hepatitis high hospital hygiene '\n",
      "              'identify illness improve incidence include increase infants '\n",
      "              'infection infections infectious influenza investigation isolate '\n",
      "              'knowledge level malaria may mean measure medical methods months '\n",
      "              'mortality nan need neonatal non norovirus number object occur '\n",
      "              'old one outbreaks patient patients pcr people per period poland '\n",
      "              'population positive practice present prevalence program provide '\n",
      "              'public rate refugee refugees report resistant risk rotavirus '\n",
      "              'salmonella sample school sequence service show source stool '\n",
      "              'strain supply surveillance survey symptoms test three time '\n",
      "              'total train transmission treatment two type unit vaccination '\n",
      "              'vaccine virus war water well women work world year years',\n",
      " 'Washing_1': 'access acute affect age also among areas associate base border '\n",
      "              'care cause children cholera ci community condition conduct '\n",
      "              'confirm control countries data diarrhea diarrhoea disease '\n",
      "              'displace drink dtype: effect emergency environmental epidemic '\n",
      "              'factor find food group hand handwash hepatitis hev high '\n",
      "              'household households hygiene identify improve incidence include '\n",
      "              'increase infection kosovo lead level live management may '\n",
      "              'measure methods monitor mortality need nigeria object one '\n",
      "              'outbreak outbreaks patients people persons population practice '\n",
      "              'program provide provision public rate refugee refugees report '\n",
      "              'republic response risk safe sample sanitation settings soap '\n",
      "              'source sudan supply survey system transmission treatment two '\n",
      "              'wash years'}\n"
     ]
    }
   ],
   "source": [
    "pprint(reviews)"
   ]
  },
  {
   "cell_type": "markdown",
   "metadata": {},
   "source": [
    "#### 2. Tokenize using BERT, obtain mappings of words to ids "
   ]
  },
  {
   "cell_type": "code",
   "execution_count": 5,
   "metadata": {},
   "outputs": [],
   "source": [
    "tokenizer = BertTokenizer.from_pretrained('allenai/scibert_scivocab_uncased')\n",
    "model = BertForSequenceClassification.from_pretrained('allenai/scibert_scivocab_uncased', \n",
    "                                                      output_hidden_states=True)"
   ]
  },
  {
   "cell_type": "code",
   "execution_count": 6,
   "metadata": {},
   "outputs": [],
   "source": [
    "# encode keywords \n",
    "indexed_tokens = {}\n",
    "segment_ids = {}\n",
    "\n",
    "for key in reviews:\n",
    "    indexed_tokens[key] = torch.Tensor(tokenizer.encode(reviews[key], add_special_tokens=True)).long().unsqueeze(0)\n",
    "    segment_ids[key] = torch.Tensor([1]*len(indexed_tokens[key])).long().unsqueeze(0)"
   ]
  },
  {
   "cell_type": "code",
   "execution_count": 7,
   "metadata": {},
   "outputs": [
    {
     "data": {
      "text/plain": [
       "torch.Size([1, 164])"
      ]
     },
     "execution_count": 7,
     "metadata": {},
     "output_type": "execute_result"
    }
   ],
   "source": [
    "indexed_tokens['Scaling_0'].shape"
   ]
  },
  {
   "cell_type": "code",
   "execution_count": 8,
   "metadata": {},
   "outputs": [],
   "source": [
    "# map ids to tokens \n",
    "id2token = {}\n",
    "for key in indexed_tokens:\n",
    "    for token in indexed_tokens[key]:\n",
    "        id2token[key] = tokenizer.convert_ids_to_tokens(token)"
   ]
  },
  {
   "cell_type": "markdown",
   "metadata": {},
   "source": [
    "#### 3. Run through BERT"
   ]
  },
  {
   "cell_type": "code",
   "execution_count": 9,
   "metadata": {},
   "outputs": [
    {
     "data": {
      "text/plain": [
       "BertForSequenceClassification(\n",
       "  (bert): BertModel(\n",
       "    (embeddings): BertEmbeddings(\n",
       "      (word_embeddings): Embedding(31090, 768, padding_idx=0)\n",
       "      (position_embeddings): Embedding(512, 768)\n",
       "      (token_type_embeddings): Embedding(2, 768)\n",
       "      (LayerNorm): LayerNorm((768,), eps=1e-12, elementwise_affine=True)\n",
       "      (dropout): Dropout(p=0.1, inplace=False)\n",
       "    )\n",
       "    (encoder): BertEncoder(\n",
       "      (layer): ModuleList(\n",
       "        (0): BertLayer(\n",
       "          (attention): BertAttention(\n",
       "            (self): BertSelfAttention(\n",
       "              (query): Linear(in_features=768, out_features=768, bias=True)\n",
       "              (key): Linear(in_features=768, out_features=768, bias=True)\n",
       "              (value): Linear(in_features=768, out_features=768, bias=True)\n",
       "              (dropout): Dropout(p=0.1, inplace=False)\n",
       "            )\n",
       "            (output): BertSelfOutput(\n",
       "              (dense): Linear(in_features=768, out_features=768, bias=True)\n",
       "              (LayerNorm): LayerNorm((768,), eps=1e-12, elementwise_affine=True)\n",
       "              (dropout): Dropout(p=0.1, inplace=False)\n",
       "            )\n",
       "          )\n",
       "          (intermediate): BertIntermediate(\n",
       "            (dense): Linear(in_features=768, out_features=3072, bias=True)\n",
       "          )\n",
       "          (output): BertOutput(\n",
       "            (dense): Linear(in_features=3072, out_features=768, bias=True)\n",
       "            (LayerNorm): LayerNorm((768,), eps=1e-12, elementwise_affine=True)\n",
       "            (dropout): Dropout(p=0.1, inplace=False)\n",
       "          )\n",
       "        )\n",
       "        (1): BertLayer(\n",
       "          (attention): BertAttention(\n",
       "            (self): BertSelfAttention(\n",
       "              (query): Linear(in_features=768, out_features=768, bias=True)\n",
       "              (key): Linear(in_features=768, out_features=768, bias=True)\n",
       "              (value): Linear(in_features=768, out_features=768, bias=True)\n",
       "              (dropout): Dropout(p=0.1, inplace=False)\n",
       "            )\n",
       "            (output): BertSelfOutput(\n",
       "              (dense): Linear(in_features=768, out_features=768, bias=True)\n",
       "              (LayerNorm): LayerNorm((768,), eps=1e-12, elementwise_affine=True)\n",
       "              (dropout): Dropout(p=0.1, inplace=False)\n",
       "            )\n",
       "          )\n",
       "          (intermediate): BertIntermediate(\n",
       "            (dense): Linear(in_features=768, out_features=3072, bias=True)\n",
       "          )\n",
       "          (output): BertOutput(\n",
       "            (dense): Linear(in_features=3072, out_features=768, bias=True)\n",
       "            (LayerNorm): LayerNorm((768,), eps=1e-12, elementwise_affine=True)\n",
       "            (dropout): Dropout(p=0.1, inplace=False)\n",
       "          )\n",
       "        )\n",
       "        (2): BertLayer(\n",
       "          (attention): BertAttention(\n",
       "            (self): BertSelfAttention(\n",
       "              (query): Linear(in_features=768, out_features=768, bias=True)\n",
       "              (key): Linear(in_features=768, out_features=768, bias=True)\n",
       "              (value): Linear(in_features=768, out_features=768, bias=True)\n",
       "              (dropout): Dropout(p=0.1, inplace=False)\n",
       "            )\n",
       "            (output): BertSelfOutput(\n",
       "              (dense): Linear(in_features=768, out_features=768, bias=True)\n",
       "              (LayerNorm): LayerNorm((768,), eps=1e-12, elementwise_affine=True)\n",
       "              (dropout): Dropout(p=0.1, inplace=False)\n",
       "            )\n",
       "          )\n",
       "          (intermediate): BertIntermediate(\n",
       "            (dense): Linear(in_features=768, out_features=3072, bias=True)\n",
       "          )\n",
       "          (output): BertOutput(\n",
       "            (dense): Linear(in_features=3072, out_features=768, bias=True)\n",
       "            (LayerNorm): LayerNorm((768,), eps=1e-12, elementwise_affine=True)\n",
       "            (dropout): Dropout(p=0.1, inplace=False)\n",
       "          )\n",
       "        )\n",
       "        (3): BertLayer(\n",
       "          (attention): BertAttention(\n",
       "            (self): BertSelfAttention(\n",
       "              (query): Linear(in_features=768, out_features=768, bias=True)\n",
       "              (key): Linear(in_features=768, out_features=768, bias=True)\n",
       "              (value): Linear(in_features=768, out_features=768, bias=True)\n",
       "              (dropout): Dropout(p=0.1, inplace=False)\n",
       "            )\n",
       "            (output): BertSelfOutput(\n",
       "              (dense): Linear(in_features=768, out_features=768, bias=True)\n",
       "              (LayerNorm): LayerNorm((768,), eps=1e-12, elementwise_affine=True)\n",
       "              (dropout): Dropout(p=0.1, inplace=False)\n",
       "            )\n",
       "          )\n",
       "          (intermediate): BertIntermediate(\n",
       "            (dense): Linear(in_features=768, out_features=3072, bias=True)\n",
       "          )\n",
       "          (output): BertOutput(\n",
       "            (dense): Linear(in_features=3072, out_features=768, bias=True)\n",
       "            (LayerNorm): LayerNorm((768,), eps=1e-12, elementwise_affine=True)\n",
       "            (dropout): Dropout(p=0.1, inplace=False)\n",
       "          )\n",
       "        )\n",
       "        (4): BertLayer(\n",
       "          (attention): BertAttention(\n",
       "            (self): BertSelfAttention(\n",
       "              (query): Linear(in_features=768, out_features=768, bias=True)\n",
       "              (key): Linear(in_features=768, out_features=768, bias=True)\n",
       "              (value): Linear(in_features=768, out_features=768, bias=True)\n",
       "              (dropout): Dropout(p=0.1, inplace=False)\n",
       "            )\n",
       "            (output): BertSelfOutput(\n",
       "              (dense): Linear(in_features=768, out_features=768, bias=True)\n",
       "              (LayerNorm): LayerNorm((768,), eps=1e-12, elementwise_affine=True)\n",
       "              (dropout): Dropout(p=0.1, inplace=False)\n",
       "            )\n",
       "          )\n",
       "          (intermediate): BertIntermediate(\n",
       "            (dense): Linear(in_features=768, out_features=3072, bias=True)\n",
       "          )\n",
       "          (output): BertOutput(\n",
       "            (dense): Linear(in_features=3072, out_features=768, bias=True)\n",
       "            (LayerNorm): LayerNorm((768,), eps=1e-12, elementwise_affine=True)\n",
       "            (dropout): Dropout(p=0.1, inplace=False)\n",
       "          )\n",
       "        )\n",
       "        (5): BertLayer(\n",
       "          (attention): BertAttention(\n",
       "            (self): BertSelfAttention(\n",
       "              (query): Linear(in_features=768, out_features=768, bias=True)\n",
       "              (key): Linear(in_features=768, out_features=768, bias=True)\n",
       "              (value): Linear(in_features=768, out_features=768, bias=True)\n",
       "              (dropout): Dropout(p=0.1, inplace=False)\n",
       "            )\n",
       "            (output): BertSelfOutput(\n",
       "              (dense): Linear(in_features=768, out_features=768, bias=True)\n",
       "              (LayerNorm): LayerNorm((768,), eps=1e-12, elementwise_affine=True)\n",
       "              (dropout): Dropout(p=0.1, inplace=False)\n",
       "            )\n",
       "          )\n",
       "          (intermediate): BertIntermediate(\n",
       "            (dense): Linear(in_features=768, out_features=3072, bias=True)\n",
       "          )\n",
       "          (output): BertOutput(\n",
       "            (dense): Linear(in_features=3072, out_features=768, bias=True)\n",
       "            (LayerNorm): LayerNorm((768,), eps=1e-12, elementwise_affine=True)\n",
       "            (dropout): Dropout(p=0.1, inplace=False)\n",
       "          )\n",
       "        )\n",
       "        (6): BertLayer(\n",
       "          (attention): BertAttention(\n",
       "            (self): BertSelfAttention(\n",
       "              (query): Linear(in_features=768, out_features=768, bias=True)\n",
       "              (key): Linear(in_features=768, out_features=768, bias=True)\n",
       "              (value): Linear(in_features=768, out_features=768, bias=True)\n",
       "              (dropout): Dropout(p=0.1, inplace=False)\n",
       "            )\n",
       "            (output): BertSelfOutput(\n",
       "              (dense): Linear(in_features=768, out_features=768, bias=True)\n",
       "              (LayerNorm): LayerNorm((768,), eps=1e-12, elementwise_affine=True)\n",
       "              (dropout): Dropout(p=0.1, inplace=False)\n",
       "            )\n",
       "          )\n",
       "          (intermediate): BertIntermediate(\n",
       "            (dense): Linear(in_features=768, out_features=3072, bias=True)\n",
       "          )\n",
       "          (output): BertOutput(\n",
       "            (dense): Linear(in_features=3072, out_features=768, bias=True)\n",
       "            (LayerNorm): LayerNorm((768,), eps=1e-12, elementwise_affine=True)\n",
       "            (dropout): Dropout(p=0.1, inplace=False)\n",
       "          )\n",
       "        )\n",
       "        (7): BertLayer(\n",
       "          (attention): BertAttention(\n",
       "            (self): BertSelfAttention(\n",
       "              (query): Linear(in_features=768, out_features=768, bias=True)\n",
       "              (key): Linear(in_features=768, out_features=768, bias=True)\n",
       "              (value): Linear(in_features=768, out_features=768, bias=True)\n",
       "              (dropout): Dropout(p=0.1, inplace=False)\n",
       "            )\n",
       "            (output): BertSelfOutput(\n",
       "              (dense): Linear(in_features=768, out_features=768, bias=True)\n",
       "              (LayerNorm): LayerNorm((768,), eps=1e-12, elementwise_affine=True)\n",
       "              (dropout): Dropout(p=0.1, inplace=False)\n",
       "            )\n",
       "          )\n",
       "          (intermediate): BertIntermediate(\n",
       "            (dense): Linear(in_features=768, out_features=3072, bias=True)\n",
       "          )\n",
       "          (output): BertOutput(\n",
       "            (dense): Linear(in_features=3072, out_features=768, bias=True)\n",
       "            (LayerNorm): LayerNorm((768,), eps=1e-12, elementwise_affine=True)\n",
       "            (dropout): Dropout(p=0.1, inplace=False)\n",
       "          )\n",
       "        )\n",
       "        (8): BertLayer(\n",
       "          (attention): BertAttention(\n",
       "            (self): BertSelfAttention(\n",
       "              (query): Linear(in_features=768, out_features=768, bias=True)\n",
       "              (key): Linear(in_features=768, out_features=768, bias=True)\n",
       "              (value): Linear(in_features=768, out_features=768, bias=True)\n",
       "              (dropout): Dropout(p=0.1, inplace=False)\n",
       "            )\n",
       "            (output): BertSelfOutput(\n",
       "              (dense): Linear(in_features=768, out_features=768, bias=True)\n",
       "              (LayerNorm): LayerNorm((768,), eps=1e-12, elementwise_affine=True)\n",
       "              (dropout): Dropout(p=0.1, inplace=False)\n",
       "            )\n",
       "          )\n",
       "          (intermediate): BertIntermediate(\n",
       "            (dense): Linear(in_features=768, out_features=3072, bias=True)\n",
       "          )\n",
       "          (output): BertOutput(\n",
       "            (dense): Linear(in_features=3072, out_features=768, bias=True)\n",
       "            (LayerNorm): LayerNorm((768,), eps=1e-12, elementwise_affine=True)\n",
       "            (dropout): Dropout(p=0.1, inplace=False)\n",
       "          )\n",
       "        )\n",
       "        (9): BertLayer(\n",
       "          (attention): BertAttention(\n",
       "            (self): BertSelfAttention(\n",
       "              (query): Linear(in_features=768, out_features=768, bias=True)\n",
       "              (key): Linear(in_features=768, out_features=768, bias=True)\n",
       "              (value): Linear(in_features=768, out_features=768, bias=True)\n",
       "              (dropout): Dropout(p=0.1, inplace=False)\n",
       "            )\n",
       "            (output): BertSelfOutput(\n",
       "              (dense): Linear(in_features=768, out_features=768, bias=True)\n",
       "              (LayerNorm): LayerNorm((768,), eps=1e-12, elementwise_affine=True)\n",
       "              (dropout): Dropout(p=0.1, inplace=False)\n",
       "            )\n",
       "          )\n",
       "          (intermediate): BertIntermediate(\n",
       "            (dense): Linear(in_features=768, out_features=3072, bias=True)\n",
       "          )\n",
       "          (output): BertOutput(\n",
       "            (dense): Linear(in_features=3072, out_features=768, bias=True)\n",
       "            (LayerNorm): LayerNorm((768,), eps=1e-12, elementwise_affine=True)\n",
       "            (dropout): Dropout(p=0.1, inplace=False)\n",
       "          )\n",
       "        )\n",
       "        (10): BertLayer(\n",
       "          (attention): BertAttention(\n",
       "            (self): BertSelfAttention(\n",
       "              (query): Linear(in_features=768, out_features=768, bias=True)\n",
       "              (key): Linear(in_features=768, out_features=768, bias=True)\n",
       "              (value): Linear(in_features=768, out_features=768, bias=True)\n",
       "              (dropout): Dropout(p=0.1, inplace=False)\n",
       "            )\n",
       "            (output): BertSelfOutput(\n",
       "              (dense): Linear(in_features=768, out_features=768, bias=True)\n",
       "              (LayerNorm): LayerNorm((768,), eps=1e-12, elementwise_affine=True)\n",
       "              (dropout): Dropout(p=0.1, inplace=False)\n",
       "            )\n",
       "          )\n",
       "          (intermediate): BertIntermediate(\n",
       "            (dense): Linear(in_features=768, out_features=3072, bias=True)\n",
       "          )\n",
       "          (output): BertOutput(\n",
       "            (dense): Linear(in_features=3072, out_features=768, bias=True)\n",
       "            (LayerNorm): LayerNorm((768,), eps=1e-12, elementwise_affine=True)\n",
       "            (dropout): Dropout(p=0.1, inplace=False)\n",
       "          )\n",
       "        )\n",
       "        (11): BertLayer(\n",
       "          (attention): BertAttention(\n",
       "            (self): BertSelfAttention(\n",
       "              (query): Linear(in_features=768, out_features=768, bias=True)\n",
       "              (key): Linear(in_features=768, out_features=768, bias=True)\n",
       "              (value): Linear(in_features=768, out_features=768, bias=True)\n",
       "              (dropout): Dropout(p=0.1, inplace=False)\n",
       "            )\n",
       "            (output): BertSelfOutput(\n",
       "              (dense): Linear(in_features=768, out_features=768, bias=True)\n",
       "              (LayerNorm): LayerNorm((768,), eps=1e-12, elementwise_affine=True)\n",
       "              (dropout): Dropout(p=0.1, inplace=False)\n",
       "            )\n",
       "          )\n",
       "          (intermediate): BertIntermediate(\n",
       "            (dense): Linear(in_features=768, out_features=3072, bias=True)\n",
       "          )\n",
       "          (output): BertOutput(\n",
       "            (dense): Linear(in_features=3072, out_features=768, bias=True)\n",
       "            (LayerNorm): LayerNorm((768,), eps=1e-12, elementwise_affine=True)\n",
       "            (dropout): Dropout(p=0.1, inplace=False)\n",
       "          )\n",
       "        )\n",
       "      )\n",
       "    )\n",
       "    (pooler): BertPooler(\n",
       "      (dense): Linear(in_features=768, out_features=768, bias=True)\n",
       "      (activation): Tanh()\n",
       "    )\n",
       "  )\n",
       "  (dropout): Dropout(p=0.1, inplace=False)\n",
       "  (classifier): Linear(in_features=768, out_features=2, bias=True)\n",
       ")"
      ]
     },
     "execution_count": 9,
     "metadata": {},
     "output_type": "execute_result"
    }
   ],
   "source": [
    "# original saved file with DataParallel\n",
    "state_dict = torch.load('/Users/chantal/Desktop/systematic_review/abstract_tool/_model/scibert_Scaling_data_3.pt',\n",
    "                       map_location=torch.device('cpu'))\n",
    "\n",
    "# create new OrderedDict that does not contain `module.`\n",
    "from collections import OrderedDict\n",
    "\n",
    "new_state_dict = OrderedDict()\n",
    "\n",
    "for k, v in state_dict.items():\n",
    "    name = k[7:] # remove `module.`\n",
    "    new_state_dict[name] = v\n",
    "    \n",
    "# load params\n",
    "model.load_state_dict(new_state_dict) \n",
    "model.eval()"
   ]
  },
  {
   "cell_type": "code",
   "execution_count": 10,
   "metadata": {},
   "outputs": [],
   "source": [
    "# testing with Scaling TODO: come back and do the rest\n",
    "all_encoded_layers = {}\n",
    "for key,data in indexed_tokens.items():\n",
    "    with torch.no_grad():\n",
    "        _, encoded_layers = model(data)\n",
    "        all_encoded_layers[key] = encoded_layers\n",
    "    _, encoded_layers_0 = model(indexed_tokens['Scaling_0'])\n",
    "    _, encoded_layers_1 = model(indexed_tokens['Scaling_1'])"
   ]
  },
  {
   "cell_type": "markdown",
   "metadata": {},
   "source": [
    "#### 4. Obtain hidden layers, stack them together"
   ]
  },
  {
   "cell_type": "code",
   "execution_count": 11,
   "metadata": {},
   "outputs": [
    {
     "name": "stdout",
     "output_type": "stream",
     "text": [
      "Number of layers: 13\n",
      "Number of batches: 1\n",
      "Number of tokens: 164\n",
      "Number of hidden units: 768\n"
     ]
    }
   ],
   "source": [
    "print (\"Number of layers:\", len(encoded_layers_0))\n",
    "layer_i = 0\n",
    "\n",
    "print (\"Number of batches:\", len(encoded_layers_0[layer_i]))\n",
    "batch_i = 0\n",
    "\n",
    "print (\"Number of tokens:\", len(encoded_layers_0[layer_i][batch_i]))\n",
    "token_i = 0\n",
    "\n",
    "print (\"Number of hidden units:\", len(encoded_layers_0[layer_i][batch_i][token_i]))"
   ]
  },
  {
   "cell_type": "code",
   "execution_count": 12,
   "metadata": {},
   "outputs": [],
   "source": [
    "all_token_embeddings = {}\n",
    "\n",
    "for key,layers in all_encoded_layers.items():\n",
    "    token_embeddings = torch.stack(layers, dim=0)\n",
    "    token_embeddings = torch.squeeze(token_embeddings, dim=1)\n",
    "\n",
    "    # [# tokens, # layers, # features]\n",
    "    token_embeddings = token_embeddings.permute(1,0,2)\n",
    "    all_token_embeddings[key] = token_embeddings"
   ]
  },
  {
   "cell_type": "code",
   "execution_count": 13,
   "metadata": {},
   "outputs": [
    {
     "name": "stdout",
     "output_type": "stream",
     "text": [
      "6 6\n"
     ]
    }
   ],
   "source": [
    "label_0 = []\n",
    "label_1 = []\n",
    "for key,emb in all_token_embeddings.items():\n",
    "    # print(key)\n",
    "    if key.endswith('0'):\n",
    "        label_0.append(emb)\n",
    "    else:\n",
    "        label_1.append(emb)\n",
    "        \n",
    "print(len(label_0), len(label_1))\n",
    "# token_embeddings = torch.cat((token_embeddings_0, token_embeddings_1), dim=0)\n",
    "# token_embeddings.size()"
   ]
  },
  {
   "cell_type": "markdown",
   "metadata": {},
   "source": [
    "#### 5. Get the word embeddings by concatenating the last four layers but you can also combine them in different ways (e.g., summing)"
   ]
  },
  {
   "cell_type": "code",
   "execution_count": 14,
   "metadata": {},
   "outputs": [
    {
     "name": "stdout",
     "output_type": "stream",
     "text": [
      "122 3072\n"
     ]
    }
   ],
   "source": [
    "token_vecs_cat = []\n",
    "\n",
    "for token in token_embeddings: \n",
    "    cat_vec = torch.cat((token[-1], token[-2], token[-3], token[-4]), dim=0)\n",
    "    token_vecs_cat.append(cat_vec)\n",
    "\n",
    "print (len(token_vecs_cat), len(token_vecs_cat[0]))"
   ]
  },
  {
   "cell_type": "code",
   "execution_count": 15,
   "metadata": {},
   "outputs": [
    {
     "name": "stdout",
     "output_type": "stream",
     "text": [
      "956 768\n",
      "779 768\n"
     ]
    }
   ],
   "source": [
    "token_vecs_sum_0 = []\n",
    "token_vecs_sum_1 = []\n",
    "\n",
    "for vec in label_0:\n",
    "    for token in vec:\n",
    "        sum_vec = torch.sum(token[-4:], dim=0)\n",
    "        token_vecs_sum_0.append(sum_vec)\n",
    "\n",
    "for vec in label_1:\n",
    "    for token in vec:\n",
    "        # print(token.shape)\n",
    "        sum_vec = torch.sum(token[-4:], dim=0)\n",
    "        token_vecs_sum_1.append(sum_vec)\n",
    "        \n",
    "print (len(token_vecs_sum_0), len(token_vecs_sum_0[0]))\n",
    "print (len(token_vecs_sum_1), len(token_vecs_sum_1[0]))"
   ]
  },
  {
   "cell_type": "markdown",
   "metadata": {},
   "source": [
    "#### 6. Project embeddings into space (e.g., using UMAP) "
   ]
  },
  {
   "cell_type": "code",
   "execution_count": 16,
   "metadata": {},
   "outputs": [],
   "source": [
    "# NOTE: This block of code is for tensorflow's projector..\n",
    "\n",
    "# giant dimensions, use PCA to reduce\n",
    "\n",
    "# from sklearn.decomposition import IncrementalPCA\n",
    "\n",
    "# token_arr_0 = [t.numpy() for t in token_vecs_sum_0]\n",
    "\n",
    "\n",
    "# ipca = IncrementalPCA(n_components=100, batch_size=100)\n",
    "# ipca.fit(token_arr_0)\n",
    "# x = ipca.transform(token_arr_0)\n",
    "\n",
    "# np.savetxt('vecs_100_1.tsv', x[:50], delimiter='\\\\t', newline='\\\\n')"
   ]
  },
  {
   "cell_type": "markdown",
   "metadata": {},
   "source": [
    "Notes about visualizing BERT embeddings. Words require context and will slightly alter the embedding depending on the sentence that's passed in.. could explore the same word in different sentences from the abstracts... \n",
    "\n",
    "- look at a plot of ALL keywords from ALL datasets split by 0/1 labels\n",
    "- extract common words from 0/1 and plot their embeddings"
   ]
  },
  {
   "cell_type": "code",
   "execution_count": 17,
   "metadata": {},
   "outputs": [
    {
     "name": "stdout",
     "output_type": "stream",
     "text": [
      "(1735, 768)\n"
     ]
    },
    {
     "name": "stderr",
     "output_type": "stream",
     "text": [
      "/Users/chantal/Desktop/systematic_review/abstract_env/lib/python3.7/site-packages/numba/np/ufunc/parallel.py:355: NumbaWarning: The TBB threading layer requires TBB version 2019.5 or later i.e., TBB_INTERFACE_VERSION >= 11005. Found TBB_INTERFACE_VERSION = 11002. The TBB threading layer is disabled.\n",
      "  warnings.warn(problem)\n"
     ]
    },
    {
     "name": "stdout",
     "output_type": "stream",
     "text": [
      "(1735, 2)\n"
     ]
    },
    {
     "data": {
      "image/png": "[encoded data removed]",
      "text/plain": [
       "<Figure size 432x288 with 1 Axes>"
      ]
     },
     "metadata": {
      "needs_background": "light"
     },
     "output_type": "display_data"
    }
   ],
   "source": [
    "import numpy as np\n",
    "from sklearn.datasets import load_iris, load_digits\n",
    "from sklearn.model_selection import train_test_split\n",
    "import matplotlib.pyplot as plt\n",
    "from matplotlib.colors import ListedColormap\n",
    "import seaborn as sns\n",
    "import pandas as pd\n",
    "import umap.umap_ as umap\n",
    "\n",
    "token_arr_0 = [t.numpy() for t in token_vecs_sum_0]\n",
    "token_arr_1 = [t.numpy() for t in token_vecs_sum_1]\n",
    "\n",
    "token_arr = np.vstack((token_arr_0, token_arr_1))\n",
    "\n",
    "print(token_arr.shape)\n",
    "\n",
    "reducer = umap.UMAP()\n",
    "embedding_ = reducer.fit_transform(token_arr)\n",
    "\n",
    "print(embedding_.shape)\n",
    "\n",
    "# note: comment and uncomment to get different plots for each label  \n",
    "total = []\n",
    "labels = {\n",
    "    'ADIPP_0':    [0]*188,\n",
    "    'VitaminD_0': [0]*99,\n",
    "    'Rehab_0':    [0]*172,\n",
    "    'NCDS_0':     [0]*172,\n",
    "    'Scaling_0':  [0]*164,\n",
    "    'Washing_0':  [0]*161,\n",
    "    'ADIPP_1':    [1]*156,\n",
    "    'VitaminD_1': [1]*139,\n",
    "    'Rehab_1':    [1]*133,\n",
    "    'NCDS_1':     [1]*118,\n",
    "    'Scaling_1':  [1]*111,\n",
    "    'Washing_1':  [1]*122,\n",
    "    \n",
    "}\n",
    "\n",
    "for key,lab in labels.items():\n",
    "    total.extend(lab)\n",
    "\n",
    "\n",
    "fig, ax = plt.subplots()\n",
    "scatter = ax.scatter(embedding_[:, 0], embedding_[:, 1], c=[sns.color_palette(\"bright\", 2)[x] for x in total],\n",
    "                     s=1)\n",
    "plt.gca().set_aspect('equal', 'datalim')\n",
    "plt.title('UMAP projection of all datasets', fontsize=12)\n",
    "legend_curve = ax.legend(labels = ['Excluded','Included'],\n",
    "                         loc=\"lower left\",title=\"Inclusion Label\", shadow=False)"
   ]
  },
  {
   "cell_type": "markdown",
   "metadata": {},
   "source": [
    "# More visualizations:\n",
    "\n",
    "- In the last section, we were mapping the top n keywords for each label. Now, we want to visualize the [CLS] (aka aggregate) vector for each _abstract_ within each label. \n",
    "- Instead of colouring by label, we're going to extract and colour by time-bins from the original data.. this will potentially show us any underlying time biases\n",
    "- From this, we can explore whether the time bias is correlated with the labels"
   ]
  },
  {
   "cell_type": "markdown",
   "metadata": {},
   "source": [
    "1. load abstracts for each label "
   ]
  },
  {
   "cell_type": "code",
   "execution_count": 18,
   "metadata": {},
   "outputs": [
    {
     "name": "stdout",
     "output_type": "stream",
     "text": [
      "dict_keys(['Scaling_data.tsv', 'NCDS_data.tsv', 'ADIPP_data.tsv', 'WASH_data.tsv', 'Rehab_data.tsv', 'VitaminD_data.tsv'])\n"
     ]
    }
   ],
   "source": [
    "reviews = {}\n",
    "\n",
    "for f in os.listdir('/Users/chantal/Desktop/systematic_review/abstract_tool/_initial_work/cleaned_data_date/'):\n",
    "    if not f.startswith('.') and f.endswith('.tsv'):\n",
    "        key = re.split(r'_', f)\n",
    "        reviews[key[0]+'_'+key[1]] = f\n",
    "        \n",
    "PATH = os.path.abspath('/Users/chantal/Desktop/systematic_review/abstract_tool/_initial_work/cleaned_data_date/')\n",
    "\n",
    "for key, dataset in reviews.items():\n",
    "    reviews[key] = pd.read_csv(os.path.join(PATH, dataset), \n",
    "                               sep='\\t', \n",
    "                               header=None, \n",
    "                               names=['idx', 'abstract', 'time', 'label'],\n",
    "                               encoding='latin1')\n",
    "    \n",
    "print(reviews.keys())"
   ]
  },
  {
   "cell_type": "code",
   "execution_count": 19,
   "metadata": {},
   "outputs": [],
   "source": [
    "# prep to pass into BERT \n",
    "\n",
    "scaling = reviews['Scaling_data.tsv']['abstract'].tolist()\n",
    "scaling_labels = reviews['Scaling_data.tsv']['time'].tolist()\n",
    "ncds = reviews['NCDS_data.tsv']['abstract'].tolist()\n",
    "adipp = reviews['ADIPP_data.tsv']['abstract'].tolist()\n",
    "wash = reviews['WASH_data.tsv']['abstract'].tolist()\n",
    "rehab = reviews['Rehab_data.tsv']['abstract'].tolist()\n",
    "vitamind = reviews['VitaminD_data.tsv']['abstract'].tolist()"
   ]
  },
  {
   "cell_type": "code",
   "execution_count": 20,
   "metadata": {},
   "outputs": [],
   "source": [
    "# note; my laptop can't handle all the abstracts..\n",
    "NUM_ABSTRACTS = 150"
   ]
  },
  {
   "cell_type": "markdown",
   "metadata": {},
   "source": [
    "2. Send abstracts through BERT, get the pooled output "
   ]
  },
  {
   "cell_type": "code",
   "execution_count": 21,
   "metadata": {},
   "outputs": [],
   "source": [
    "indexed_tokens = {}\n",
    "segment_ids = {}\n",
    "    \n",
    "# start with scaling \n",
    "\n",
    "for idx, ab in enumerate(scaling[:NUM_ABSTRACTS]):\n",
    "    indexed_tokens[idx] = torch.Tensor(tokenizer.encode(str(ab), add_special_tokens=True, max_length=511)).long().unsqueeze(0)\n",
    "    segment_ids[idx] = torch.Tensor([1]*len(indexed_tokens[idx])).long().unsqueeze(0)\n",
    "    \n",
    "# map ids to tokens \n",
    "id2token = {}\n",
    "for key in indexed_tokens:\n",
    "    for token in indexed_tokens[key]:\n",
    "        id2token[key] = tokenizer.convert_ids_to_tokens(token)\n",
    "        \n",
    "all_encoded_layers = {}\n",
    "for key,data in indexed_tokens.items():\n",
    "    with torch.no_grad():\n",
    "        _, encoded_layers = model(data)\n",
    "        all_encoded_layers[key] = encoded_layers"
   ]
  },
  {
   "cell_type": "code",
   "execution_count": 22,
   "metadata": {},
   "outputs": [
    {
     "name": "stdout",
     "output_type": "stream",
     "text": [
      "150\n"
     ]
    }
   ],
   "source": [
    "all_CLS_embeddings = {} \n",
    "\n",
    "for key,layers in all_encoded_layers.items():\n",
    "        token_embeddings = torch.stack(layers, dim=0)\n",
    "        token_embeddings = torch.squeeze(token_embeddings, dim=1)\n",
    "\n",
    "        # [# tokens, # layers, # features]\n",
    "        token_embeddings = token_embeddings.permute(1,0,2)\n",
    "        all_CLS_embeddings[key] = token_embeddings[0]\n",
    "        # print(token_embeddings[0].unsqueeze(0).shape)\n",
    "    \n",
    "token_vecs_sum = []\n",
    "\n",
    "for key,vec in all_CLS_embeddings.items():\n",
    "    sum_vec = torch.sum(vec[-4:], dim=0)\n",
    "    token_vecs_sum.append(sum_vec)\n",
    "\n",
    "print(len(token_vecs_sum))"
   ]
  },
  {
   "cell_type": "code",
   "execution_count": 23,
   "metadata": {},
   "outputs": [
    {
     "name": "stdout",
     "output_type": "stream",
     "text": [
      "768\n"
     ]
    }
   ],
   "source": [
    "print(len(token_vecs_sum[0]))"
   ]
  },
  {
   "cell_type": "code",
   "execution_count": 24,
   "metadata": {},
   "outputs": [
    {
     "name": "stdout",
     "output_type": "stream",
     "text": [
      "(150, 2)\n"
     ]
    },
    {
     "data": {
      "image/png": "[encoded data removed]",
      "text/plain": [
       "<Figure size 432x288 with 1 Axes>"
      ]
     },
     "metadata": {
      "needs_background": "light"
     },
     "output_type": "display_data"
    }
   ],
   "source": [
    "import numpy as np\n",
    "from sklearn.datasets import load_iris, load_digits\n",
    "from sklearn.model_selection import train_test_split\n",
    "import matplotlib.pyplot as plt\n",
    "from matplotlib.colors import ListedColormap\n",
    "import seaborn as sns\n",
    "import pandas as pd\n",
    "import umap.umap_ as umap\n",
    "from collections import defaultdict\n",
    "\n",
    "\n",
    "token_arr = [t.numpy() for t in token_vecs_sum]\n",
    "\n",
    "reducer = umap.UMAP()\n",
    "embedding_ = reducer.fit_transform(token_arr)\n",
    "\n",
    "print(embedding_.shape)\n",
    "\n",
    "labels = scaling_labels[:NUM_ABSTRACTS]\n",
    "\n",
    "label_dict = defaultdict(list)\n",
    "\n",
    "for embedding, year in zip(embedding_, labels):\n",
    "    label_dict[year].append(embedding)\n",
    "    \n",
    "    \n",
    "unique = set(labels)\n",
    "\n",
    "colours = sns.color_palette(n_colors=len(unique))\n",
    "\n",
    "fig, ax = plt.subplots()\n",
    "\n",
    "for year,c in zip(unique,colours):\n",
    "    x = np.asarray(label_dict[year])[:, 0]\n",
    "    y = np.asarray(label_dict[year])[:, 1]\n",
    "    ax.scatter(x,\n",
    "               y, \n",
    "               s=5, \n",
    "               label=labels,\n",
    "               alpha=1, \n",
    "               )\n",
    "\n",
    "plt.gca().set_aspect('equal', 'datalim')\n",
    "plt.title('UMAP projection of the Scaling Dataset by Year', fontsize=12)\n",
    "legend_curve = ax.legend(labels=unique,\n",
    "                         frameon=False,\n",
    "                         loc=\"lower left\",\n",
    "                         title=\"Year Published\", \n",
    "                         shadow=False,\n",
    "                         bbox_to_anchor=(1, 0),\n",
    "                         ncol=2)\n",
    "\n",
    "plt.show()\n"
   ]
  },
  {
   "cell_type": "code",
   "execution_count": null,
   "metadata": {},
   "outputs": [],
   "source": []
  },
  {
   "cell_type": "code",
   "execution_count": null,
   "metadata": {},
   "outputs": [],
   "source": []
  }
 ],
 "metadata": {
  "kernelspec": {
   "display_name": "abstract_env",
   "language": "python",
   "name": "abstract_env"
  },
  "language_info": {
   "codemirror_mode": {
    "name": "ipython",
    "version": 3
   },
   "file_extension": ".py",
   "mimetype": "text/x-python",
   "name": "python",
   "nbconvert_exporter": "python",
   "pygments_lexer": "ipython3",
   "version": "3.7.1"
  }
 },
 "nbformat": 4,
 "nbformat_minor": 2
}
