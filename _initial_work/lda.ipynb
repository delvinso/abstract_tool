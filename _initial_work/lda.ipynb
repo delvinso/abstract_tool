{
 "cells": [
  {
   "cell_type": "markdown",
   "metadata": {},
   "source": [
    "# Topic Modeling - LDA \n",
    "\n",
    "1. Implements cleaning and pre-processing from `data_exploration.ipynb` with additional text cleaning.\n",
    "2. Trains an LDA for each of the datasets, for each outcome (ie. abstracts fitting exclusion criteria and inclusion criteria separately), and prints the top words belonging to each topic.\n"
   ]
  },
  {
   "cell_type": "code",
   "execution_count": 6,
   "metadata": {
    "pycharm": {
     "is_executing": false,
     "name": "#%%\n"
    }
   },
   "outputs": [],
   "source": [
    "import os\n",
    "import warnings\n",
    "import pandas as pd\n",
    "import numpy as np\n",
    "import re \n",
    "import nltk\n",
    "from nltk.tokenize import sent_tokenize, word_tokenize, regexp, RegexpTokenizer\n",
    "from nltk.corpus import stopwords\n",
    "from nltk.stem.wordnet import WordNetLemmatizer\n"
   ]
  },
  {
   "cell_type": "code",
   "execution_count": 7,
   "metadata": {
    "pycharm": {
     "is_executing": false,
     "name": "#%%\n"
    }
   },
   "outputs": [
    {
     "name": "stderr",
     "output_type": "stream",
     "text": [
      "[nltk_data] Downloading package stopwords to\n",
      "[nltk_data]     /Users/chantal/nltk_data...\n",
      "[nltk_data]   Package stopwords is already up-to-date!\n",
      "[nltk_data] Downloading package wordnet to /Users/chantal/nltk_data...\n",
      "[nltk_data]   Package wordnet is already up-to-date!\n"
     ]
    },
    {
     "data": {
      "text/plain": [
       "True"
      ]
     },
     "execution_count": 7,
     "metadata": {},
     "output_type": "execute_result"
    }
   ],
   "source": [
    "warnings.filterwarnings('ignore')\n",
    "\n",
    "import ssl\n",
    "\n",
    "try:\n",
    "    _create_unverified_https_context = ssl._create_unverified_context\n",
    "except AttributeError:\n",
    "    pass\n",
    "else:\n",
    "    ssl._create_default_https_context = _create_unverified_https_context\n",
    "\n",
    "# need to only download only once\n",
    "nltk.download('stopwords')\n",
    "nltk.download('wordnet')"
   ]
  },
  {
   "cell_type": "markdown",
   "metadata": {
    "pycharm": {
     "name": "#%% md\n"
    }
   },
   "source": [
    "## 01. Reading in and Cleaning \n",
    "**(mostly from data_exploration.ipynb)**"
   ]
  },
  {
   "cell_type": "code",
   "execution_count": 8,
   "metadata": {
    "pycharm": {
     "is_executing": false,
     "name": "#%%\n"
    }
   },
   "outputs": [],
   "source": [
    "# read in each dataset into a dictionary\n",
    "reviews = {}\n",
    "\n",
    "# assuming naming follows 'type' + '_complete.csv' structure \n",
    "for f in os.listdir('../data/'):\n",
    "    if not f.startswith('.'):\n",
    "        key = re.split(r'_', f)\n",
    "        reviews[key[0]] = f\n",
    "        \n",
    "PATH = os.path.abspath('../data')\n",
    "\n",
    "for key, dataset in reviews.items():\n",
    "    reviews[key] = pd.read_csv(os.path.join(PATH, dataset), encoding='latin1')"
   ]
  },
  {
   "cell_type": "code",
   "execution_count": 9,
   "metadata": {
    "pycharm": {
     "is_executing": false,
     "name": "#%%\n"
    }
   },
   "outputs": [],
   "source": [
    "# columns to keep\n",
    "to_keep = ['Title', 'Abstract', 'Notes', 'Inclusion']\n",
    "\n",
    "for key, dataset in reviews.items():\n",
    "    reviews[key] = dataset[to_keep]"
   ]
  },
  {
   "cell_type": "code",
   "execution_count": 10,
   "metadata": {
    "pycharm": {
     "is_executing": false,
     "name": "#%%\n"
    }
   },
   "outputs": [],
   "source": [
    "# join title and abstract together\n",
    "for key, dataset in reviews.items():\n",
    "    dataset['All_Text'] = dataset.apply(lambda x: f\"{x['Title']} {x['Abstract']}\",\n",
    "                                        axis = 1)"
   ]
  },
  {
   "cell_type": "code",
   "execution_count": 11,
   "metadata": {
    "pycharm": {
     "is_executing": false,
     "name": "#%%\n"
    }
   },
   "outputs": [],
   "source": [
    "\n",
    "# modified to remove 1 letter words and numbers. shouldn't be relevant\n",
    "def clean_text(s):\n",
    "    s = s.str.lower()                         # put to lowercase for homogeneity    \n",
    "    s = s.str.replace(r'_', ' ')              # remove underscores from the notes\n",
    "    s = s.str.replace(r'\\W', ' ')             # remove punctutation\n",
    "    stop = set(stopwords.words('english'))    # define stop words\n",
    "    lemmatizer = WordNetLemmatizer()          # lemmatize - a lot of repeat words\n",
    "\n",
    "    s = s.apply(lambda x: [lemmatizer.lemmatize(word, 'v')\n",
    "                              for word in x.split() \n",
    "                              if word not in stop]) # remove stopwords\n",
    "\n",
    "    s = s.apply(lambda x: [word for word in x if len(word) > 1])\n",
    "    s = s.apply(lambda x: [word for word in x if not word.isnumeric()])\n",
    "\n",
    "    return(s)"
   ]
  },
  {
   "cell_type": "code",
   "execution_count": 12,
   "metadata": {
    "pycharm": {
     "is_executing": false,
     "name": "#%%\n"
    }
   },
   "outputs": [],
   "source": [
    "for key, dataset in reviews.items():\n",
    "    dataset[['All_Text']] = dataset[['All_Text']].apply(lambda x: clean_text(x))\n"
   ]
  },
  {
   "cell_type": "markdown",
   "metadata": {
    "pycharm": {
     "is_executing": true,
     "name": "#%% md\n"
    }
   },
   "source": [
    "## 02. LDA\n",
    "\n",
    "TODO\n",
    "* how applicable is this given the nuances in exclusion/inclusion? - literature?\n",
    "* play around with dictionary filtering parameters\n",
    "* given a new 'All_Text' (abstract + title), return similar papers?\n",
    "* topic coherence\n",
    "* add n-gram\n",
    "* use small n to see how granular topics are"
   ]
  },
  {
   "cell_type": "code",
   "execution_count": 13,
   "metadata": {},
   "outputs": [
    {
     "data": {
      "text/plain": [
       "'/Users/chantal/Desktop/systematic_review/abstract_env/bin/python'"
      ]
     },
     "execution_count": 13,
     "metadata": {},
     "output_type": "execute_result"
    }
   ],
   "source": [
    "import sys\n",
    "sys.executable"
   ]
  },
  {
   "cell_type": "code",
   "execution_count": 14,
   "metadata": {
    "pycharm": {
     "is_executing": false,
     "name": "#%%\n"
    }
   },
   "outputs": [],
   "source": [
    "import gensim\n",
    "from gensim import models, corpora\n"
   ]
  },
  {
   "cell_type": "code",
   "execution_count": 23,
   "metadata": {
    "pycharm": {
     "is_executing": false,
     "name": "#%%\n"
    }
   },
   "outputs": [],
   "source": [
    "from pprint import pprint\n",
    "def text2lda(txt, num_topics = 5):\n",
    "    \"\"\"\n",
    "    Creates a dictionary, filters based on document size and frequency. \n",
    "    Converts to a bag of words and fits a simple LDA.\n",
    "    \"\"\"\n",
    "    doc_size = txt.shape[0]\n",
    "    dictionary = corpora.Dictionary(txt)\n",
    "    # remove terms occuring in less 1% of documents, and those occuring in more than 30\n",
    "    dictionary.filter_extremes(no_below = doc_size * 0.01, no_above = 0.30)\n",
    "    corpus = [dictionary.doc2bow(text) for text in txt]\n",
    "    lda_model = models.LdaModel(corpus=corpus,\n",
    "                                num_topics = num_topics,\n",
    "                                id2word=dictionary,\n",
    "                                eval_every=None)\n",
    "    return(lda_model)\n",
    "\n",
    "def print_top_words(model,n = 10):\n",
    "    for topic in range(0, model.num_topics):\n",
    "        print('\\t\\tTopic {}:\\n '.format(topic) + ', '.join(words[0] for words in model.show_topic(topic, n)))\n",
    "        # print('topic {}: '.format(topic) + ', '.join([str(words[1]) for words in model.show_topic(topic, 10)]))\n"
   ]
  },
  {
   "cell_type": "code",
   "execution_count": 24,
   "metadata": {
    "pycharm": {
     "is_executing": false,
     "name": "#%%\n"
    }
   },
   "outputs": [
    {
     "name": "stdout",
     "output_type": "stream",
     "text": [
      "Dataset: Scaling, Inclusion: 0, # of Abstracts 10460\n",
      "\t\tTopic 0:\n",
      " land, rural, effect, area, spatial, pattern, air, cover, forest, temperature, growth, dynamics, settlement, size, high, factor, impact, time, fire, influence, landscape, populations, also, dispersal, recruitment, type, density, genetic, local, find, mortality, patch, suggest, system, development, distribution, cities, across, may, level, rat, emissions, process, structure, food, climate, analysis, regional, two, variability\n",
      "\t\tTopic 1:\n",
      " health, network, system, research, spatial, social, approach, development, risk, plan, analysis, level, map, process, develop, area, include, information, also, systems, city, different, provide, service, community, environmental, case, land, structure, identify, paper, new, factor, method, design, implementation, methods, time, need, economic, integrate, impact, tool, project, assessment, present, human, improve, pattern, one\n",
      "\t\tTopic 2:\n",
      " species, community, landscape, systems, management, local, forest, service, diversity, richness, communities, habitat, impact, human, structure, plant, level, effect, energy, provide, may, climate, power, bird, new, approach, abundance, process, size, food, environmental, include, populations, challenge, understand, ecosystem, across, need, natural, biodiversity, also, conservation, global, ecological, support, different, important, distribution, however, interactions\n",
      "\t\tTopic 3:\n",
      " health, community, care, hiv, species, group, level, among, communities, program, age, size, pattern, interventions, test, find, service, children, two, women, rural, intervention, high, treatment, estimate, cost, include, sample, years, methods, control, spatial, provide, malaria, populations, analysis, child, distribution, report, number, density, compare, survey, maternal, need, low, factor, time, different, also\n",
      "\t\tTopic 4:\n",
      " water, community, plant, communities, microbial, soil, fish, bacterial, river, treatment, ecological, analysis, sample, effect, stream, composition, process, quality, system, level, total, environmental, species, structure, different, high, also, management, resources, include, production, time, groundwater, well, nutrient, sediment, basin, area, condition, human, three, source, impact, control, diversity, wastewater, development, indicate, significant, within\n",
      "Dataset: Scaling, Inclusion: 1, # of Abstracts 231\n",
      "\t\tTopic 0:\n",
      " increase, global, economic, systems, development, areas, network, area, dynamics, large, range, also, measure, zipf, land, spatial, total, new, local, structure, urbanization, number, per, laws, suggest, gdp, propose, many, light, develop, simple, capita, space, form, density, metropolitan, change, properties, small, analysis, effect, across, however, road, relationship, exponent, us, social, predict, observe\n",
      "\t\tTopic 1:\n",
      " pattern, settlement, large, analysis, spatial, level, dynamics, relationship, also, among, exponent, factor, china, distributions, zipf, energy, systems, social, increase, time, estimate, development, process, understand, change, density, variation, settlements, network, epidemic, three, may, fractal, laws, areas, economic, number, structure, human, range, two, observe, new, global, across, many, apply, parameter, pm2, countries\n",
      "\t\tTopic 2:\n",
      " spatial, economic, increase, number, human, distributions, pattern, social, process, fractal, exponent, laws, analysis, areas, suggest, statistical, across, estimate, measure, relationship, us, present, change, paper, metropolitan, zipf, follow, dimension, linear, street, area, development, relationships, rank, however, theory, observe, settlements, also, function, time, form, general, characterize, one, effect, new, homicides, understand, factor\n",
      "\t\tTopic 3:\n",
      " network, area, systems, distributions, system, spatial, increase, density, large, time, build, land, relationship, laws, linear, form, exponent, fractal, social, economic, allometric, suggest, two, areas, structure, china, level, analysis, development, measure, understand, zipf, provide, pattern, value, number, evolution, street, may, also, human, us, length, range, empirical, new, elsevier, people, across, per\n",
      "\t\tTopic 4:\n",
      " network, economic, structure, analysis, time, number, also, relationship, laws, rank, distributions, systems, system, populations, human, density, relationships, spatial, local, term, two, process, emissions, increase, function, pattern, crime, areas, emission, provide, energy, observe, dynamics, exponent, transportation, total, metropolitan, large, factor, development, individual, per, area, however, test, change, exponential, superlinear, set, consumption\n",
      "\n",
      "\n",
      "Dataset: Rehab, Inclusion: 0, # of Abstracts 12819\n",
      "\t\tTopic 0:\n",
      " health, abuse, right, child, sexual, experience, mental, service, social, victims, record, reserve, research, care, need, database, psycinfo, apa, disorder, violence, treatment, work, provide, community, group, find, women, program, people, family, problems, support, trauma, also, school, report, psychological, refugees, may, physical, disabilities, practice, war, case, present, base, rehabilitation, therapy, well, traumatic\n",
      "\t\tTopic 1:\n",
      " case, injury, years, brain, trauma, hospital, head, severe, victims, injuries, cause, follow, tbi, outcome, clinical, mortality, find, present, traumatic, patient, one, death, associate, ct, syndrome, year, group, pediatric, cardiac, emergency, burn, risk, mean, may, report, two, increase, score, data, treatment, acute, identify, time, months, days, period, perform, show, rate, analysis\n",
      "\t\tTopic 2:\n",
      " injuries, trauma, care, injury, emergency, fracture, case, patient, pediatric, medical, hospital, treatment, management, pain, surgical, surgery, center, years, require, follow, treat, perform, time, review, level, one, group, present, department, two, relate, data, complications, report, need, service, mean, traumatic, bone, injure, transfer, clinical, common, associate, triage, amputation, procedures, provide, limb, spinal\n",
      "\t\tTopic 3:\n",
      " group, treatment, stroke, effect, may, brain, increase, time, control, find, years, clinical, follow, change, test, function, risk, also, loss, level, cause, case, report, disorder, hear, early, war, symptoms, disease, show, transient, exposure, associate, present, significant, acute, infants, development, term, relate, rat, lead, well, two, one, life, cognitive, improve, high, therapy\n",
      "\t\tTopic 4:\n",
      " health, report, among, ptsd, risk, care, symptoms, self, factor, years, data, group, school, survey, associate, disorder, relate, compare, women, ci, high, measure, increase, higher, prevalence, stress, emergency, participants, assess, population, score, level, sample, program, significantly, rat, time, find, service, students, depression, life, bully, significant, disability, post, medical, cost, conclusions, physical\n",
      "Dataset: Rehab, Inclusion: 1, # of Abstracts 220\n",
      "\t\tTopic 0:\n",
      " children, group, rehabilitation, injure, mean, health, victims, management, relate, medical, eye, include, pediatric, score, number, military, experience, cause, care, mine, landmine, amputation, one, perform, range, outcome, traumatic, period, compare, provide, require, report, tissue, patient, brain, casualties, condition, nerve, civilian, present, blast, among, severe, follow, amputations, limb, bone, lower, three, people\n",
      "\t\tTopic 1:\n",
      " children, care, limb, wound, time, injure, group, lower, rate, procedures, follow, health, military, rehabilitation, blast, victims, fracture, period, graft, amputation, mortality, physical, cause, vascular, common, need, perform, include, report, data, severe, surgery, mean, outcome, present, tissue, relate, medical, associate, civilian, admission, bone, two, number, upper, percent, range, survey, patient, repair\n",
      "\t\tTopic 2:\n",
      " children, procedures, burn, include, limb, perform, period, care, surgeons, follow, pediatric, cause, wound, military, surgery, operations, one, vascular, total, report, graft, camp, afghanistan, amputation, require, service, amputations, associate, provide, population, time, extremity, medical, severe, set, lower, two, background, wind, group, mean, eye, may, patient, high, orthopaedic, present, penetrate, rehabilitation, landmine\n",
      "\t\tTopic 3:\n",
      " wound, children, care, cause, group, mine, mortality, vascular, management, amputation, limb, injure, lower, rehabilitation, medical, traumatic, one, follow, conflict, pediatric, extremities, high, population, eye, period, victims, amputations, hand, data, surgery, score, present, head, report, penetrate, combat, pain, afghanistan, time, require, casualties, rate, civilians, total, brain, support, include, relate, background, provide\n",
      "\t\tTopic 4:\n",
      " vascular, wound, cause, medical, perform, care, need, fracture, pediatric, report, emergency, health, associate, victims, disability, clinical, research, amputations, group, children, military, require, include, experience, mortality, management, among, rate, service, relate, casualties, conclusions, background, number, civilian, department, limb, surgery, high, present, data, common, procedures, afghanistan, physical, admit, increase, review, one, time\n",
      "\n",
      "\n",
      "Dataset: WASH, Inclusion: 0, # of Abstracts 6678\n"
     ]
    },
    {
     "name": "stdout",
     "output_type": "stream",
     "text": [
      "\t\tTopic 0:\n",
      " patients, infection, isolate, strain, outbreaks, sample, stool, control, cause, test, two, identify, type, infections, virus, associate, hospital, children, gastroenteritis, one, detect, positive, food, coli, care, salmonella, report, pcr, culture, epidemic, occur, find, infants, clinical, rotavirus, sequence, unit, among, include, neonatal, source, diarrhea, gii, acute, disease, three, show, resistant, transmission, methods\n",
      "\t\tTopic 1:\n",
      " water, control, risk, sample, school, identify, report, food, source, drink, associate, disease, factor, cause, ci, environmental, among, investigation, test, gastroenteritis, find, community, flood, supply, public, affect, increase, contamination, outbreaks, conduct, well, may, two, occur, earthquake, analysis, illness, contaminate, include, fever, consumption, measure, norovirus, malaria, patients, one, areas, rate, level, methods\n",
      "\t\tTopic 2:\n",
      " care, children, medical, include, public, hygiene, need, service, risk, refugees, among, nan, survey, factor, group, report, women, program, provide, work, practice, methods, camp, child, also, one, community, patients, hand, data, emergency, time, years, knowledge, find, experience, control, treatment, well, people, hospital, train, change, age, improve, refugee, education, population, increase, first\n",
      "\t\tTopic 3:\n",
      " children, years, report, disease, hepatitis, age, epidemic, cholera, outbreaks, data, incidence, countries, among, population, increase, poland, cause, diseases, rate, virus, per, acute, patients, vaccine, mortality, epidemiological, number, public, year, occur, surveillance, influenza, vaccination, infection, high, may, one, type, areas, infectious, also, include, infections, find, total, water, war, group, period, world\n",
      "\t\tTopic 4:\n",
      " children, patients, infection, age, risk, disease, years, control, group, exposure, days, find, associate, among, high, water, clinical, treatment, symptoms, prevalence, follow, test, increase, hepatitis, stool, non, include, report, one, infections, contact, cause, may, factor, occur, patient, present, hospital, time, diagnosis, transmission, year, period, old, level, months, diarrhoea, epidemic, day, mean\n",
      "Dataset: WASH, Inclusion: 1, # of Abstracts 249\n",
      "\t\tTopic 0:\n",
      " wash, refugee, hand, outbreak, control, cholera, household, hygiene, households, soap, patients, sanitation, risk, children, improve, ci, practice, years, factor, diarrhea, report, access, among, drink, include, identify, find, data, settings, infection, source, refugees, treatment, age, rate, handwash, transmission, sample, increase, care, level, population, cause, monitor, outbreaks, supply, kosovo, emergency, displace, conduct\n",
      "\t\tTopic 1:\n",
      " outbreak, drink, children, report, control, cholera, population, among, sanitation, hygiene, households, hand, survey, high, group, sample, find, disease, household, risk, diarrhea, conduct, improve, refugee, treatment, persons, age, methods, may, associate, supply, practice, wash, also, source, community, access, two, public, years, include, soap, refugees, effect, identify, one, displace, increase, people, confirm\n",
      "\t\tTopic 2:\n",
      " control, sanitation, cholera, children, outbreak, condition, refugees, age, risk, ci, emergency, transmission, refugee, population, increase, displace, persons, response, report, household, community, republic, outbreaks, live, find, among, one, people, environmental, factor, hygiene, base, system, nigeria, include, diarrhoea, group, lead, mortality, survey, improve, areas, treatment, households, management, public, years, rate, provide, diarrhea\n",
      "\t\tTopic 3:\n",
      " sanitation, cholera, children, hygiene, outbreak, refugee, soap, handwash, practice, households, risk, report, access, refugees, sample, years, survey, control, sudan, include, disease, community, high, improve, identify, diarrhea, conduct, need, supply, hev, cause, infection, countries, provision, acute, outbreaks, incidence, diarrhoea, wash, base, hepatitis, among, two, one, factor, find, household, mortality, methods, hand\n",
      "\t\tTopic 4:\n",
      " cholera, outbreak, children, refugees, control, hygiene, among, risk, community, outbreaks, refugee, report, drink, response, wash, ci, sample, conduct, years, identify, high, households, factor, food, include, population, treatment, level, epidemic, displace, sanitation, disease, live, methods, improve, practice, age, safe, infection, transmission, environmental, border, areas, need, affect, program, diarrhea, group, measure, care\n",
      "\n",
      "\n",
      "Dataset: ADIPP, Inclusion: 0, # of Abstracts 44402\n",
      "\t\tTopic 0:\n",
      " food, program, children, intervention, countries, nutrition, develop, base, social, community, school, research, child, include, need, development, change, interventions, provide, relate, improve, alcohol, adolescents, also, education, effect, control, life, model, impact, tobacco, survey, public, support, well, income, analysis, report, population, quality, rural, evidence, identify, focus, conduct, prevention, household, experience, risk, care\n",
      "\t\tTopic 1:\n",
      " patients, case, children, water, treatment, sample, disease, control, test, clinical, infection, two, risk, report, one, show, cause, prevalence, food, follow, exposure, total, high, present, mean, positive, range, rate, include, respectively, human, hospital, compare, may, drug, significant, common, determine, three, type, diagnosis, associate, also, drink, population, time, diabetes, effect, collect, conclusion\n",
      "\t\tTopic 2:\n",
      " women, pregnancy, pregnant, iron, maternal, birth, vitamin, milk, weight, effect, mother, deficiency, feed, breast, infants, supplementation, control, serum, status, low, months, zinc, supplement, acid, growth, infant, first, anemia, significantly, risk, significant, higher, blood, concentrations, gestational, compare, period, days, respectively, intake, diet, weeks, early, mean, high, associate, day, kg, mg, nutritional\n",
      "\t\tTopic 3:\n",
      " children, school, prevalence, intake, obesity, dietary, risk, adolescents, iodine, weight, higher, high, body, food, status, associate, students, smoke, sample, bmi, overweight, consumption, population, subject, girls, nutritional, nutrition, eat, survey, respectively, total, significantly, index, measure, blood, significant, physical, diet, low, association, compare, ci, mean, mass, score, boys, show, salt, adults, assess\n",
      "\t\tTopic 4:\n",
      " women, knowledge, hiv, care, practice, risk, report, students, sexual, associate, education, ci, mother, self, adolescents, survey, respondents, questionnaire, cross, service, sectional, school, attitudes, family, need, interview, conduct, test, sex, information, participants, high, behavior, pregnancy, sample, aid, attitude, rural, cancer, relate, female, prevalence, breastfeed, assess, nurse, men, awareness, demographic, experience, conclusion\n",
      "Dataset: ADIPP, Inclusion: 1, # of Abstracts 4990\n",
      "\t\tTopic 0:\n",
      " women, drink, nutrition, alcohol, obesity, survey, ci, pregnant, base, report, education, pregnancy, water, china, include, iodine, control, diet, energy, low, fruit, countries, population, maternal, care, smoke, child, students, interventions, one, total, time, need, conclusions, examine, mother, conduct, social, consume, pattern, also, program, day, binge, relate, two, income, practice, intervention, men\n",
      "\t\tTopic 1:\n",
      " eat, obesity, students, rural, urban, diet, breakfast, overweight, habit, foods, intakes, consume, women, population, body, mean, low, score, significant, total, day, bmi, subject, daily, compare, areas, fat, healthy, snack, energy, respectively, weight, significantly, vegetables, questionnaire, salt, fruit, lower, china, base, relate, survey, participants, knowledge, hypertension, nutrition, parent, conclusion, show, nutritional\n",
      "\t\tTopic 2:\n",
      " alcohol, students, pattern, behaviors, drink, ci, questionnaire, report, physical, drug, survey, include, analysis, year, self, show, frequency, activity, smoke, base, significantly, behavior, two, association, conduct, eat, relate, aim, substance, male, energy, participants, identify, time, measure, adolescent, public, female, ffq, conclusion, males, three, objective, china, one, rural, gender, significant, family, compare\n",
      "\t\tTopic 3:\n",
      " nutritional, nutrition, women, obesity, energy, weight, maternal, foods, household, vitamin, survey, low, body, diet, overweight, fat, intakes, milk, association, blood, effect, population, pregnancy, households, total, change, estimate, birth, measure, protein, nutrient, countries, mother, include, adults, show, child, mass, analysis, objective, index, consume, significant, meat, stunt, kg, significantly, fish, improve, insecurity\n",
      "\t\tTopic 4:\n",
      " girls, iron, overweight, weight, obesity, vitamin, physical, activity, women, deficiency, body, ci, low, diet, boys, bmi, zinc, anemia, serum, control, mean, adolescent, respectively, significantly, index, calcium, subject, nutritional, mass, include, significant, show, students, measure, lower, compare, height, micronutrient, association, anaemia, obese, objective, total, intakes, pregnant, survey, chinese, base, china, determine\n",
      "\n",
      "\n",
      "Dataset: NCDS, Inclusion: 0, # of Abstracts 17883\n"
     ]
    },
    {
     "name": "stdout",
     "output_type": "stream",
     "text": [
      "\t\tTopic 0:\n",
      " case, cardiac, disease, cause, thyroid, may, effect, dose, ca2, death, radiation, ventricular, patient, report, induce, heart, treatment, disorder, also, show, follow, find, lead, drug, risk, syndrome, present, function, exposure, cancer, brain, clinical, storm, one, genetic, first, associate, sudden, due, therapy, occur, life, however, develop, change, well, young, year, right, old\n",
      "\t\tTopic 1:\n",
      " health, risk, children, care, among, women, cancer, group, data, population, factor, report, disease, ci, obesity, associate, exposure, prevalence, diabetes, medical, relate, chronic, visit, service, base, asthma, effect, find, high, need, control, compare, may, research, life, program, time, also, screen, refugees, diseases, rat, higher, survey, people, school, provide, birth, model, weight\n",
      "\t\tTopic 2:\n",
      " level, cells, cell, death, group, mortality, rat, control, associate, protein, cause, compare, effect, cardiac, expression, blood, mice, significantly, factor, show, glucose, decrease, find, higher, vs, disease, induce, time, insulin, heart, may, high, survival, analysis, model, reduce, serum, case, also, starvation, significant, rate, risk, type, weight, data, suggest, growth, day, hospital\n",
      "\t\tTopic 3:\n",
      " emergency, hospital, trauma, injury, medical, care, ed, patient, data, injuries, score, pain, time, pediatric, blood, children, department, ci, group, follow, outcome, mortality, pressure, associate, clinical, admission, identify, compare, ems, outcomes, center, rate, triage, risk, one, mean, analysis, receive, perform, level, present, conclusions, prehospital, traumatic, service, test, case, discharge, transport, base\n",
      "\t\tTopic 4:\n",
      " case, asthma, children, emergency, acute, infection, clinical, disease, treatment, stroke, report, symptoms, respiratory, outbreak, present, diagnosis, hospital, cause, care, patient, one, virus, management, severe, pediatric, year, medical, follow, influenza, associate, find, two, occur, infections, common, review, days, department, may, diagnose, test, fever, syndrome, positive, identify, first, treat, high, require, period\n",
      "Dataset: NCDS, Inclusion: 1, # of Abstracts 193\n",
      "\t\tTopic 0:\n",
      " cancer, women, patients, diabetes, screen, children, breast, population, factor, prevalence, rat, status, years, report, increase, camp, patient, chronic, disease, find, data, program, associate, palestine, community, treatment, jordan, background, unrwa, speak, incidence, service, group, diseases, year, barriers, survey, show, access, control, cause, compare, low, live, displace, medical, humanitarian, case, one, syria\n",
      "\t\tTopic 1:\n",
      " patients, diabetes, prevalence, women, children, camp, chronic, need, medical, anemia, data, treatment, diseases, years, nan, mortality, factor, disease, group, high, report, associate, hospital, risk, non, case, hypertension, mellitus, find, service, higher, access, status, aim, population, cause, war, survey, primary, diagnose, common, background, iron, blood, asthma, mean, include, palestinian, stroke, time\n",
      "\t\tTopic 2:\n",
      " patients, children, cancer, women, disease, diseases, diabetes, war, chronic, breast, case, years, report, camp, medical, treatment, ci, status, find, associate, need, follow, non, include, mortality, control, risk, increase, service, lebanon, hospital, high, syrian, record, cause, live, period, primary, prevalence, population, mhealth, jordan, compare, clinic, common, factor, data, present, one, system\n",
      "\t\tTopic 3:\n",
      " camp, diseases, children, diabetes, patients, condition, chronic, disease, prevalence, nan, service, syrian, live, anemia, jordan, medical, need, report, population, survey, group, case, humanitarian, high, people, management, seek, support, afghan, system, relate, palestinian, years, background, visit, include, women, cancer, northern, non, status, assess, sample, common, one, may, displace, provide, primary, countries\n",
      "\t\tTopic 4:\n",
      " cancer, diseases, women, population, diabetes, disease, prevalence, jordan, chronic, neurological, years, factor, risk, report, camp, patients, include, group, children, screen, displace, find, increase, diagnose, ci, condition, iraqi, anemia, case, data, service, non, disorder, period, persons, war, level, medical, mortality, hypertension, history, high, severe, visit, background, relate, stress, information, associate, conduct\n",
      "\n",
      "\n",
      "Dataset: VitaminD, Inclusion: 0, # of Abstracts 1368\n",
      "\t\tTopic 0:\n",
      " children, infants, bone, deficiency, maternal, iu, receive, health, nmol, months, trials, oh, years, pregnancy, disease, assess, ml, milk, intervention, hydroxyvitamin, status, treatment, outcomes, factor, evidence, higher, daily, intake, one, two, mother, birth, high, dietary, review, day, d3, concentrations, pregnant, measure, placebo, follow, significantly, growth, iron, infant, change, mean, among, prevention\n",
      "\t\tTopic 1:\n",
      " pregnancy, children, infants, deficiency, maternal, status, milk, months, trials, evidence, oh, ml, weeks, iron, patients, pregnant, concentrations, treatment, review, mother, outcomes, health, data, nmol, significant, daily, higher, mg, birth, hiv, disease, preterm, one, ci, receive, blood, assess, significantly, weight, measure, improve, reduce, placebo, mean, iu, two, subject, conclusions, ng, search\n",
      "\t\tTopic 2:\n",
      " bone, children, iu, trials, patients, treatment, infants, placebo, data, mg, mineral, disease, assess, review, ci, pregnancy, day, reduce, two, milk, evidence, health, receive, analysis, dietary, oh, weeks, term, outcomes, months, maternal, significant, intake, high, one, report, also, search, years, bmd, daily, fracture, significantly, higher, status, show, lower, early, participants, birth\n",
      "\t\tTopic 3:\n",
      " trials, infants, intake, oh, children, bone, patients, review, status, milk, high, pregnancy, months, two, deficiency, ci, data, treatment, outcomes, maternal, disease, mean, weight, day, evidence, placebo, growth, reduce, significantly, iu, randomise, health, years, birth, weeks, breast, participants, ca, cancer, find, concentrations, report, significant, higher, receive, iron, follow, however, improve, blood\n",
      "\t\tTopic 4:\n",
      " oh, pregnancy, d3, maternal, bone, milk, children, iu, placebo, weeks, data, receive, mean, evidence, trials, infants, ml, high, outcomes, treatment, patients, day, ng, significant, pregnant, months, baseline, ci, mg, status, dietary, years, birth, nmol, concentrations, reduce, total, review, acid, vs, assess, follow, health, neonatal, background, intervention, conclusions, find, per, significantly\n",
      "Dataset: VitaminD, Inclusion: 1, # of Abstracts 80\n",
      "\t\tTopic 0:\n",
      " nmol, milk, ml, breast, calcium, mo, cholecalciferol, 25ohd, high, ng, children, month, two, respectively, breastfeed, single, day, days, vs, change, ci, lactate, birth, breastfed, postpartum, ca, mg, weeks, determine, monthly, bone, improve, baseline, oral, achieve, normal, risk, similar, ohd, feed, regimen, evaluate, concentrations, growth, vitd, first, wk, conclusions, give, season\n",
      "\t\tTopic 1:\n",
      " ml, ng, day, weeks, breastfed, methylation, lactate, calcium, exclusively, concentrations, among, single, value, postpartum, birth, children, oral, month, intervention, bone, feed, risk, baseline, plasma, may, determine, respectively, breastfeed, outcome, dna, vs, find, high, mo, significant, growth, days, one, nmol, blood, deficient, achieve, term, identify, nan, similar, administration, differences, pregnant, 25ohd\n",
      "\t\tTopic 2:\n",
      " ml, mo, breast, day, ng, micronutrient, feed, children, vitd, milk, ohd, weeks, lns, single, vs, postpartum, ifa, nmol, calcium, pregnancy, achieve, bolus, high, respectively, lactate, cholecalciferol, wk, differences, oral, significant, intake, treatment, determine, score, bone, concentrations, breastfed, improve, baseline, multiple, mass, growth, mug, decrease, low, design, give, ci, use, iron\n",
      "\t\tTopic 3:\n",
      " day, ml, breastfeed, concentrations, bone, high, postpartum, vs, ohd, weeks, exclusively, respectively, birth, morbidity, breast, associate, baseline, nmol, ng, pregnancy, decrease, month, lower, 25ohd, milk, breastfed, use, differences, bmd, days, 2d3, may, lactate, ci, density, intervention, healthy, ratio, micronutrient, monthly, score, intake, pregnant, deficient, low, delivery, oral, growth, among, conclusion\n",
      "\t\tTopic 4:\n",
      " children, growth, birth, mo, ci, bone, calcium, day, breast, nan, exclusively, hiv, pneumonia, among, two, feed, high, milk, breastfeed, nmol, mug, significant, difference, d2, outcome, nurse, bolus, prevalence, weeks, subclinical, oral, treatment, multiple, hypercalciuria, mastitis, micronutrient, three, double, ratio, concentrations, post, infect, postpartum, use, lower, weight, decrease, month, therapy, assess\n",
      "\n",
      "\n"
     ]
    }
   ],
   "source": [
    "# fit LDA for each dataset, for each label (inclusion and exclusion),\n",
    "# and print top 5 words for each topic\n",
    "for key, dataset in reviews.items():\n",
    "    for label in (0, 1):\n",
    "        print('Dataset: {}, Inclusion: {}, # of Abstracts {}'\\\n",
    "              .format(key, str(label), dataset['All_Text'][dataset.Inclusion == label].count()))\n",
    "        lda = text2lda(dataset['All_Text'][dataset.Inclusion == label], num_topics=5)\n",
    "        print_top_words(lda, 50)\n",
    "    print('\\n')"
   ]
  },
  {
   "cell_type": "markdown",
   "metadata": {},
   "source": [
    "Notes:\n",
    "   * Remove words with two letters (abbreviatinos such as ml, ui)\n",
    "   * Vitamin - Inclusion is not too informative, likely because of the small number of positive abstracts\n",
    "   * Scaling is interesting, exclusion criteria is related to \n"
   ]
  },
  {
   "cell_type": "code",
   "execution_count": null,
   "metadata": {
    "pycharm": {
     "is_executing": false,
     "name": "#%%\n"
    }
   },
   "outputs": [],
   "source": [
    "# for key, dataset in reviews.items():\n",
    "#     print('Dataset: {}, # of Abstracts'.format(key))\n",
    "#     lda = text2lda(dataset['All_Text'], num_topics=5)\n",
    "#     print_top_words(lda, 10)\n"
   ]
  },
  {
   "cell_type": "code",
   "execution_count": null,
   "metadata": {
    "pycharm": {
     "is_executing": false,
     "name": "#%%\n"
    }
   },
   "outputs": [],
   "source": []
  },
  {
   "cell_type": "code",
   "execution_count": null,
   "metadata": {
    "pycharm": {
     "is_executing": false,
     "name": "#%%\n"
    }
   },
   "outputs": [],
   "source": [
    "\n"
   ]
  },
  {
   "cell_type": "code",
   "execution_count": null,
   "metadata": {},
   "outputs": [],
   "source": []
  },
  {
   "cell_type": "code",
   "execution_count": null,
   "metadata": {},
   "outputs": [],
   "source": []
  }
 ],
 "metadata": {
  "kernelspec": {
   "display_name": "abstract_env",
   "language": "python",
   "name": "abstract_env"
  },
  "language_info": {
   "codemirror_mode": {
    "name": "ipython",
    "version": 3
   },
   "file_extension": ".py",
   "mimetype": "text/x-python",
   "name": "python",
   "nbconvert_exporter": "python",
   "pygments_lexer": "ipython3",
   "version": "3.7.1"
  },
  "pycharm": {
   "stem_cell": {
    "cell_type": "raw",
    "metadata": {
     "collapsed": false
    },
    "source": []
   }
  }
 },
 "nbformat": 4,
 "nbformat_minor": 1
}
