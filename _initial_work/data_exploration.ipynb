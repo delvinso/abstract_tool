{
 "cells": [
  {
   "cell_type": "code",
   "execution_count": 3,
   "metadata": {},
   "outputs": [],
   "source": [
    "import os\n",
    "import warnings\n",
    "import pandas as pd\n",
    "import numpy as np\n",
    "import re \n",
    "import math \n",
    "\n",
    "import nltk\n",
    "from nltk.tokenize import sent_tokenize, word_tokenize, regexp, RegexpTokenizer\n",
    "from nltk.corpus import stopwords\n",
    "from nltk.stem.wordnet import WordNetLemmatizer\n",
    "\n",
    "from sklearn.feature_extraction.text import CountVectorizer\n",
    "from sklearn.feature_extraction.text import TfidfVectorizer\n",
    "from sklearn.feature_extraction.text import TfidfTransformer\n",
    "\n",
    "\n",
    "warnings.filterwarnings('ignore')"
   ]
  },
  {
   "cell_type": "code",
   "execution_count": 4,
   "metadata": {},
   "outputs": [
    {
     "name": "stderr",
     "output_type": "stream",
     "text": [
      "[nltk_data] Downloading package stopwords to\n",
      "[nltk_data]     /Users/chantal/nltk_data...\n",
      "[nltk_data]   Package stopwords is already up-to-date!\n",
      "[nltk_data] Downloading package wordnet to /Users/chantal/nltk_data...\n",
      "[nltk_data]   Package wordnet is already up-to-date!\n"
     ]
    },
    {
     "data": {
      "text/plain": [
       "True"
      ]
     },
     "execution_count": 4,
     "metadata": {},
     "output_type": "execute_result"
    }
   ],
   "source": [
    "import ssl\n",
    "\n",
    "try:\n",
    "    _create_unverified_https_context = ssl._create_unverified_context\n",
    "except AttributeError:\n",
    "    pass\n",
    "else:\n",
    "    ssl._create_default_https_context = _create_unverified_https_context\n",
    "\n",
    "# need to only download only once\n",
    "nltk.download('stopwords')\n",
    "nltk.download('wordnet')"
   ]
  },
  {
   "cell_type": "markdown",
   "metadata": {},
   "source": [
    "# Stats"
   ]
  },
  {
   "cell_type": "markdown",
   "metadata": {},
   "source": [
    "Collect all the datasets"
   ]
  },
  {
   "cell_type": "code",
   "execution_count": 25,
   "metadata": {},
   "outputs": [
    {
     "data": {
      "text/plain": [
       "{'Scaling': 'Scaling_complete.csv',\n",
       " 'Rehab': 'Rehab_complete.csv',\n",
       " 'WASH': 'WASH_complete.csv',\n",
       " 'ADIPP': 'ADIPP_complete.csv',\n",
       " 'NCDS': 'NCDS_complete.csv',\n",
       " 'VitaminD': 'VitaminD_complete.csv'}"
      ]
     },
     "execution_count": 25,
     "metadata": {},
     "output_type": "execute_result"
    }
   ],
   "source": [
    "reviews = {}\n",
    "\n",
    "# assuming naming follows 'type' + '_complete.csv' structure \n",
    "for f in os.listdir('/Users/chantal/Desktop/systematic_review/abstract_tool/data/'):\n",
    "    if not f.startswith('.') and f.endswith('.csv'):\n",
    "        key = re.split(r'_', f)\n",
    "        reviews[key[0]] = f\n",
    "        \n",
    "reviews"
   ]
  },
  {
   "cell_type": "code",
   "execution_count": 26,
   "metadata": {},
   "outputs": [],
   "source": [
    "PATH = '/Users/chantal/Desktop/systematic_review/abstract_tool/data'\n",
    "\n",
    "for key, dataset in reviews.items():\n",
    "    reviews[key] = pd.read_csv(os.path.join(PATH, dataset), encoding='latin1').fillna(' ')"
   ]
  },
  {
   "cell_type": "code",
   "execution_count": 34,
   "metadata": {},
   "outputs": [
    {
     "data": {
      "text/plain": [
       "['Title',\n",
       " 'Authors',\n",
       " 'Abstract',\n",
       " 'Published.Year',\n",
       " 'Published Month',\n",
       " 'Journal',\n",
       " 'Volume',\n",
       " 'Issue',\n",
       " 'Pages',\n",
       " 'Accession Number',\n",
       " 'DOI',\n",
       " 'Ref',\n",
       " 'Covidence #',\n",
       " 'Study',\n",
       " 'Notes',\n",
       " 'Tags',\n",
       " 'Inclusion']"
      ]
     },
     "execution_count": 34,
     "metadata": {},
     "output_type": "execute_result"
    }
   ],
   "source": [
    "reviews['VitaminD'].columns.tolist()"
   ]
  },
  {
   "cell_type": "markdown",
   "metadata": {},
   "source": [
    "Keep only relevant columns: Title, Abstract, Notes and Inclusion"
   ]
  },
  {
   "cell_type": "code",
   "execution_count": 35,
   "metadata": {},
   "outputs": [],
   "source": [
    "to_keep = ['Title', 'Abstract', 'Notes','Published.Year', 'Inclusion', 'FullText_Inclusion',\n",
    "           'Authors', 'Journal']\n",
    "\n",
    "for key, dataset in reviews.items():\n",
    "    filter_col = [col for col in dataset if col in to_keep]\n",
    "    if 'Published Year' in dataset:\n",
    "        dataset.rename(columns={'Published Year':'Published.Year'}, \n",
    "                 inplace=True)\n",
    "    else:\n",
    "        reviews[key] = dataset[filter_col]"
   ]
  },
  {
   "cell_type": "code",
   "execution_count": 37,
   "metadata": {},
   "outputs": [
    {
     "data": {
      "text/html": [
       "<div>\n",
       "<style scoped>\n",
       "    .dataframe tbody tr th:only-of-type {\n",
       "        vertical-align: middle;\n",
       "    }\n",
       "\n",
       "    .dataframe tbody tr th {\n",
       "        vertical-align: top;\n",
       "    }\n",
       "\n",
       "    .dataframe thead th {\n",
       "        text-align: right;\n",
       "    }\n",
       "</style>\n",
       "<table border=\"1\" class=\"dataframe\">\n",
       "  <thead>\n",
       "    <tr style=\"text-align: right;\">\n",
       "      <th></th>\n",
       "      <th>Title</th>\n",
       "      <th>Authors</th>\n",
       "      <th>Abstract</th>\n",
       "      <th>Published.Year</th>\n",
       "      <th>Journal</th>\n",
       "      <th>Notes</th>\n",
       "      <th>Inclusion</th>\n",
       "    </tr>\n",
       "  </thead>\n",
       "  <tbody>\n",
       "    <tr>\n",
       "      <th>0</th>\n",
       "      <td>Preventive Effects of Vitamin D on Seasonal In...</td>\n",
       "      <td>Zhou, Jian; Du, Juan; Huang, Leting; Wang, You...</td>\n",
       "      <td>OBJECTIVES: This study aimed to evaluate the c...</td>\n",
       "      <td>2018</td>\n",
       "      <td>The Pediatric infectious disease journal</td>\n",
       "      <td>Jill Korsiak (2018-04-04 00:54:01)(Screen): I'...</td>\n",
       "      <td>0</td>\n",
       "    </tr>\n",
       "    <tr>\n",
       "      <th>1</th>\n",
       "      <td>Feeding of premature infant formula after hosp...</td>\n",
       "      <td>Wheeler, R. E.; Hall, R. T.</td>\n",
       "      <td>A randomized, double-blind study was conducted...</td>\n",
       "      <td>1996</td>\n",
       "      <td>Journal of perinatology : official journal of ...</td>\n",
       "      <td></td>\n",
       "      <td>0</td>\n",
       "    </tr>\n",
       "    <tr>\n",
       "      <th>2</th>\n",
       "      <td>Effects of vitamin D supplementation in infanc...</td>\n",
       "      <td>Trilok-Kumar, Geeta; Kaur, Manpreet; Rehman, A...</td>\n",
       "      <td>BACKGROUND: The long-term effects of infant vi...</td>\n",
       "      <td>2015</td>\n",
       "      <td>International journal of epidemiology</td>\n",
       "      <td></td>\n",
       "      <td>0</td>\n",
       "    </tr>\n",
       "    <tr>\n",
       "      <th>3</th>\n",
       "      <td>Effect of Multivitamin-Mineral versus Multivit...</td>\n",
       "      <td>Taghizadeh, Mohsen; Samimi, Mansooreh; Tabassi...</td>\n",
       "      <td>OBJECTIVE: Micronutrient deficiency during pre...</td>\n",
       "      <td>2014</td>\n",
       "      <td>Oman medical journal</td>\n",
       "      <td></td>\n",
       "      <td>0</td>\n",
       "    </tr>\n",
       "    <tr>\n",
       "      <th>4</th>\n",
       "      <td>The relationship of vitamin D status of exerci...</td>\n",
       "      <td>Sorvillo A, Wideman L. Lovelady C.</td>\n",
       "      <td>Vitamin D is needed for bone remolding; howeve...</td>\n",
       "      <td>2013</td>\n",
       "      <td>FASEB Journal</td>\n",
       "      <td></td>\n",
       "      <td>0</td>\n",
       "    </tr>\n",
       "  </tbody>\n",
       "</table>\n",
       "</div>"
      ],
      "text/plain": [
       "                                               Title  \\\n",
       "0  Preventive Effects of Vitamin D on Seasonal In...   \n",
       "1  Feeding of premature infant formula after hosp...   \n",
       "2  Effects of vitamin D supplementation in infanc...   \n",
       "3  Effect of Multivitamin-Mineral versus Multivit...   \n",
       "4  The relationship of vitamin D status of exerci...   \n",
       "\n",
       "                                             Authors  \\\n",
       "0  Zhou, Jian; Du, Juan; Huang, Leting; Wang, You...   \n",
       "1                        Wheeler, R. E.; Hall, R. T.   \n",
       "2  Trilok-Kumar, Geeta; Kaur, Manpreet; Rehman, A...   \n",
       "3  Taghizadeh, Mohsen; Samimi, Mansooreh; Tabassi...   \n",
       "4                 Sorvillo A, Wideman L. Lovelady C.   \n",
       "\n",
       "                                            Abstract Published.Year  \\\n",
       "0  OBJECTIVES: This study aimed to evaluate the c...           2018   \n",
       "1  A randomized, double-blind study was conducted...           1996   \n",
       "2  BACKGROUND: The long-term effects of infant vi...           2015   \n",
       "3  OBJECTIVE: Micronutrient deficiency during pre...           2014   \n",
       "4  Vitamin D is needed for bone remolding; howeve...           2013   \n",
       "\n",
       "                                             Journal  \\\n",
       "0           The Pediatric infectious disease journal   \n",
       "1  Journal of perinatology : official journal of ...   \n",
       "2              International journal of epidemiology   \n",
       "3                               Oman medical journal   \n",
       "4                                      FASEB Journal   \n",
       "\n",
       "                                               Notes  Inclusion  \n",
       "0  Jill Korsiak (2018-04-04 00:54:01)(Screen): I'...          0  \n",
       "1                                                             0  \n",
       "2                                                             0  \n",
       "3                                                             0  \n",
       "4                                                             0  "
      ]
     },
     "execution_count": 37,
     "metadata": {},
     "output_type": "execute_result"
    }
   ],
   "source": [
    "reviews['VitaminD'].head()"
   ]
  },
  {
   "cell_type": "markdown",
   "metadata": {},
   "source": [
    "Concatenate Title and Abstract fields"
   ]
  },
  {
   "cell_type": "code",
   "execution_count": 38,
   "metadata": {},
   "outputs": [],
   "source": [
    "for key, dataset in reviews.items():\n",
    "    dataset['All_Text'] = dataset.apply(lambda x: f\"{x['Title']} {x['Abstract']}\",\n",
    "                                        axis = 1)"
   ]
  },
  {
   "cell_type": "markdown",
   "metadata": {},
   "source": [
    "Clean up and preprocess text: remove special characters, punctuation, tokenize, lemmatize, remove any repeated information (e.g., headings), replace NaNs with 0s"
   ]
  },
  {
   "cell_type": "code",
   "execution_count": 39,
   "metadata": {},
   "outputs": [],
   "source": [
    "# TODO: Do we want to remove numbers and special characters (e.g., other languages??)\n",
    "def clean_text(s):\n",
    "    s = s.str.lower()                         # put to lowercase for homogeneity    \n",
    "    s = s.str.replace(r'_', ' ')              # remove underscores from the notes\n",
    "    s = s.str.replace(r'\\W', ' ')             # remove punctutation\n",
    "    stop = set(stopwords.words('english'))    # define stop words\n",
    "    lemmatizer = WordNetLemmatizer()          # lemmatize - a lot of repeat words\n",
    "    s = s.apply(lambda x: [lemmatizer.lemmatize(word, 'v')\n",
    "                              for word in x.split() \n",
    "                              if word not in stop]) # remove stopwords\n",
    "\n",
    "    s = s.apply(lambda x: [word for word in x if len(word) > 1])\n",
    "    s = s.apply(lambda x: [word for word in x if not word.isnumeric()])\n",
    "\n",
    "    return s"
   ]
  },
  {
   "cell_type": "code",
   "execution_count": 40,
   "metadata": {},
   "outputs": [],
   "source": [
    "for key, dataset in reviews.items():\n",
    "    dataset[['All_Text']] = dataset[['All_Text']].apply(lambda x: clean_text(x))"
   ]
  },
  {
   "cell_type": "code",
   "execution_count": 41,
   "metadata": {},
   "outputs": [],
   "source": [
    "for key, dataset in reviews.items():\n",
    "    dataset['All_Text_Raw'] = dataset['All_Text'].str.join(' ')"
   ]
  },
  {
   "cell_type": "code",
   "execution_count": 42,
   "metadata": {
    "scrolled": true
   },
   "outputs": [
    {
     "data": {
      "text/plain": [
       "'scale nonlinear arxiv one celebrate find complex systems last decade different index patent scale nonlinearly population cities appear recently generality find question study use new databases different definitions city boundaries paper investigate existence nonlinear scale use probabilistic framework fluctuations account explicitly particular show allow estimate confidence intervals also quantify evidence favor test hypothesis observations compatible nonlinear scale employ framework compare different model different datasets find answer point crucially depend fluctuations contain data model fact city size heavy tail distribute'"
      ]
     },
     "execution_count": 42,
     "metadata": {},
     "output_type": "execute_result"
    }
   ],
   "source": [
    "# reviews['Scaling'][['All_Text']].apply(lambda x: clean_text(x))\n",
    "\n",
    "reviews['Scaling'].iloc[0]['All_Text_Raw']"
   ]
  },
  {
   "cell_type": "code",
   "execution_count": 43,
   "metadata": {},
   "outputs": [],
   "source": [
    "for key, dataset in reviews.items():\n",
    "    dataset['Metadata'] = dataset.apply(lambda x: f\"{x['Authors']} {x['Published.Year']} \\\n",
    "                                                    {x['Journal']} {x['Notes']}\",\n",
    "                                        axis = 1)"
   ]
  },
  {
   "cell_type": "code",
   "execution_count": 45,
   "metadata": {},
   "outputs": [],
   "source": [
    "for key, dataset in reviews.items():\n",
    "    dataset[['Metadata']] = dataset[['Metadata']].apply(lambda x: clean_text(x))"
   ]
  },
  {
   "cell_type": "code",
   "execution_count": 51,
   "metadata": {},
   "outputs": [
    {
     "data": {
      "text/plain": [
       "'kossobokov vladimir nekrasova anastasia journal seismology'"
      ]
     },
     "execution_count": 51,
     "metadata": {},
     "output_type": "execute_result"
    }
   ],
   "source": [
    "for key, dataset in reviews.items():\n",
    "    dataset['Metadata_Raw'] = dataset['Metadata'].str.join(' ')\n",
    "reviews['Scaling']['Metadata_Raw']"
   ]
  },
  {
   "cell_type": "code",
   "execution_count": 52,
   "metadata": {},
   "outputs": [],
   "source": [
    "# save relevant columns\n",
    "for key,dataset in reviews.items():\n",
    "    to_save = dataset[['All_Text_Raw', 'Metadata_Raw', 'Inclusion' ]].to_csv(key+'_metadata.tsv', \n",
    "                                                                               sep='\\t', \n",
    "                                                                               header=None)"
   ]
  },
  {
   "cell_type": "code",
   "execution_count": 70,
   "metadata": {
    "scrolled": true
   },
   "outputs": [],
   "source": [
    "# average number of tokens, len of abstracts, num notes, label nums\n",
    "stats = {}\n",
    "\n",
    "for key, dataset in reviews.items(): \n",
    "    avg = np.mean(dataset['All_Text'].apply(lambda x: x.__len__()))\n",
    "    num = dataset['All_Text'].count()\n",
    "    num_notes = dataset['Notes'].count() # counts non-NaNs only\n",
    "    label_counts = dataset['Inclusion'].value_counts()\n",
    "    \n",
    "    stats[key] = {'average token length': math.trunc(avg),\n",
    "                  'total entries': num,\n",
    "                  'total number of notes': num_notes,\n",
    "                  'class labels [0]': label_counts[0],\n",
    "                  'class labels [1]': label_counts[1]}"
   ]
  },
  {
   "cell_type": "code",
   "execution_count": 71,
   "metadata": {},
   "outputs": [
    {
     "name": "stdout",
     "output_type": "stream",
     "text": [
      "{'ADIPP': {'average token length': 151,\n",
      "           'class labels [0]': 44402,\n",
      "           'class labels [1]': 4990,\n",
      "           'total entries': 49398,\n",
      "           'total number of notes': 49398},\n",
      " 'NCDS': {'average token length': 148,\n",
      "          'class labels [0]': 17883,\n",
      "          'class labels [1]': 193,\n",
      "          'total entries': 18078,\n",
      "          'total number of notes': 18078},\n",
      " 'Rehab': {'average token length': 141,\n",
      "           'class labels [0]': 12819,\n",
      "           'class labels [1]': 220,\n",
      "           'total entries': 13042,\n",
      "           'total number of notes': 13042},\n",
      " 'Scaling': {'average token length': 164,\n",
      "             'class labels [0]': 10460,\n",
      "             'class labels [1]': 231,\n",
      "             'total entries': 10691,\n",
      "             'total number of notes': 10691},\n",
      " 'VitaminD': {'average token length': 169,\n",
      "              'class labels [0]': 1368,\n",
      "              'class labels [1]': 80,\n",
      "              'total entries': 1448,\n",
      "              'total number of notes': 1448},\n",
      " 'WASH': {'average token length': 118,\n",
      "          'class labels [0]': 6678,\n",
      "          'class labels [1]': 249,\n",
      "          'total entries': 6930,\n",
      "          'total number of notes': 6930}}\n"
     ]
    }
   ],
   "source": [
    "from pprint import pprint\n",
    "pprint(stats)"
   ]
  },
  {
   "cell_type": "markdown",
   "metadata": {},
   "source": [
    "# Keyword Extraction"
   ]
  },
  {
   "cell_type": "markdown",
   "metadata": {},
   "source": [
    "TF-IDF"
   ]
  },
  {
   "cell_type": "code",
   "execution_count": 111,
   "metadata": {},
   "outputs": [],
   "source": [
    "def sort_coo(coo_matrix):\n",
    "    tuples = zip(coo_matrix.col, coo_matrix.data)\n",
    "    return sorted(tuples, key=lambda x: (x[1], x[0]), reverse=True)\n",
    " \n",
    "def extract_topn_from_vector(feature_names, sorted_items, topn=10):\n",
    "    \"\"\"get the feature names and tf-idf score of top n items\"\"\"\n",
    "    \n",
    "    #use only topn items from vector\n",
    "    sorted_items = sorted_items[:topn]\n",
    " \n",
    "    score_vals = []\n",
    "    feature_vals = []\n",
    "    \n",
    "    # word index and corresponding tf-idf score\n",
    "    for idx, score in sorted_items:\n",
    "        \n",
    "        #keep track of feature name and its corresponding score\n",
    "        score_vals.append(round(score, 3))\n",
    "        feature_vals.append(feature_names[idx])\n",
    " \n",
    "    #create a tuples of feature,score\n",
    "    #results = zip(feature_vals,score_vals)\n",
    "    results = {}\n",
    "    for idx in range(len(feature_vals)):\n",
    "        results[feature_vals[idx]]= score_vals[idx]\n",
    "    \n",
    "    return results"
   ]
  },
  {
   "cell_type": "code",
   "execution_count": 119,
   "metadata": {},
   "outputs": [],
   "source": [
    "# create list of stopwords that also remove pronouns etc. \n",
    "stop = list(stopwords.words('english'))"
   ]
  },
  {
   "cell_type": "code",
   "execution_count": 124,
   "metadata": {},
   "outputs": [
    {
     "name": "stdout",
     "output_type": "stream",
     "text": [
      "\n",
      "******** Scaling ********\n",
      "\n",
      "===== Doc =====\n",
      "One of the most celebrated findings in complex systems in the last decade is that different indexes y (e.g., patents) scale nonlinearly with the population x of the cities in which they appear, i.e., y ~ x,   1. More recently, the generality of this finding has been questioned in studies using new databases and different definitions of city boundaries. In this paper we investigate the existence of nonlinear scaling using a probabilistic framework in which fluctuations are accounted explicitly. In particular, we show that this allows not only to (a) estimate  and confidence intervals, but also to (b) quantify the evidence in favor of   1 and (c) test the hypothesis that the observations are compatible with the nonlinear scaling. We employ this framework to compare 5 different models to 15 different datasets and we find that the answers to points (a)-(c) crucially depend on the fluctuations contained in the data, on how they are modeled, and on the fact that the city sizes are heavy-tailed distributed.\n",
      "\n",
      "=== Keywords ===\n",
      "different 0.423\n",
      "framework 0.322\n",
      "scaling 0.247\n",
      "city 0.215\n",
      "observations 0.199\n",
      "quantify 0.196\n",
      "distributed 0.192\n",
      "using 0.19\n",
      "recently 0.189\n",
      "find 0.18\n",
      "\n",
      "******** Rehab ********\n",
      "\n",
      "===== Doc =====\n",
      "One hundred and eighty-eight Burmese refugees in Thailand were interviewed. One hundred and five of those interviewed had knowledge of a total of 313 persons who had been exposed to land mine explosions. Twenty-three of the interviewed were land mine survivors. They were all male, aged between eight and 68 years, and all except one had been injured between 1986 and 1997. Fifteen of the 23 were civilians, eight were guerilla soldiers who were injured either in battle or while deploying or disarming land mines. Those who had stepped on land mines were all crus or femur amputated and had several scars on the lower limbs, abdomen and some also on the forearms. Those who had handled a land mine had lost either fingers or hands and one also lost both eyes. This study shows that the frequency of land mine accidents in Burma has been underestimated and that the mortality is high. The study also supports the general impression that many victims are civilians.\n",
      "\n",
      "=== Keywords ===\n",
      "eight 0.42\n",
      "one 0.332\n",
      "hundred 0.305\n",
      "either 0.274\n",
      "also 0.264\n",
      "injured 0.253\n",
      "soldiers 0.177\n",
      "68 0.157\n",
      "twenty 0.15\n",
      "exposed 0.149\n",
      "\n",
      "******** WASH ********\n",
      "\n",
      "===== Doc =====\n",
      " \n",
      "\n",
      "=== Keywords ===\n",
      "\n",
      "******** ADIPP ********\n",
      "\n",
      "===== Doc =====\n",
      "Objective: Maternal alcohol consumption during pregnancy and fetal alcohol spectrum disorders (FASDs) represent a significant public health problem. The influence of the male partner's alcohol consumption patterns and the quality of the partner's intimate relationship might be important factors to consider in the design of successful FASD prevention programs. Method: As part of the Collaborative Initiative on Fetal Alcohol Spectrum Disorders, 166 pregnant women in two regions in Ukraine participated in an in-person interview at an average gestational age of 18-19 weeks. Subjects were classified cross-sectionally as abstainers/light drinkers (n = 80), defined as low or no consumption of alcohol in the periconceptional period and none in the most recent 2 weeks of pregnancy; discontinuers (n = 43), defined as moderate to heavy alcohol use in the periconceptional period but none during the most recent 2 weeks of pregnancy; or continuing drinkers (n = 43), defined as continued moderate to heavy alcohol use within the most recent 2 weeks of pregnancy. Women also reported on their partner's drinking behavior and on the quality of their intimate relation- ship. Results: Heavy paternal drinking was significantly associated with both continuing maternal drinking in the most recent 2 weeks (adjusted odds ratio [OR] = 34.1; 95% CI [5.9, 195.8]) and being a risky drinker only around conception (adjusted OR = 27.0; 95% CI [5.0, 147.7]). In addition, women who consumed alcohol during pregnancy had lower mean scores for satisfaction with partners' relationship and ability to discuss problems (p <.05) compared with light drinkers/abstainers. Conclusions: This study suggests that development of partner-based interventions, as opposed to those solely focused on maternal drinking, might be warranted as a strategy to prevent FASD.\n",
      "\n",
      "=== Keywords ===\n",
      "alcohol 0.45\n",
      "partner 0.315\n",
      "weeks 0.309\n",
      "recent 0.259\n",
      "drinking 0.244\n",
      "pregnancy 0.223\n",
      "defined 0.196\n",
      "maternal 0.153\n",
      "fetal 0.144\n",
      "consumption 0.141\n",
      "\n",
      "******** NCDS ********\n",
      "\n",
      "===== Doc =====\n",
      "Three hundred asthmatic children aged 3 to 15 years, and 100 age-sex- neighborhood matched controls, were studied for environmental risk factors for asthma during 1986 to 1987. In 98% of the asthmatic patients, exposure to house dust aggravated the symptoms. In 97% of the cases, the symptoms were more severe at home; in more than 50%, the symptoms persisted throughout the year. Significantly more cigarettes were smoked in the homes of the allergic children than in the control homes. House dust samples from homes of 20 asthmatic and 20 nonasthmatic children were examined for the presence of house dust mites. Twelve species of mites were identified, of which Dermatophagoides pteronyssinus, the most prevalent (97%), was found in all samples examined. The average number of mites per gram dust was 447 in homes of children with asthma, and 399 in homes of controls. Although dust and mites seem to be the most important factors causing allergies in Gaza and most of the children are exposed to large numbers of mites in their homes, it appears that those who are genetically predisposed and who are exposed to environmental tobacco smoke are at greater risk for allergic symptoms.\n",
      "\n",
      "=== Keywords ===\n",
      "symptoms 0.371\n",
      "children 0.353\n",
      "samples 0.263\n",
      "environmental 0.261\n",
      "controls 0.258\n",
      "exposed 0.245\n",
      "examined 0.222\n",
      "asthma 0.207\n",
      "20 0.184\n",
      "factors 0.17\n",
      "\n",
      "******** VitaminD ********\n",
      "\n",
      "===== Doc =====\n",
      "OBJECTIVES: This study aimed to evaluate the clinical efficacy and safety of vitamin D for preventing influenza A in 400 infants in a multicenter, randomized, open, controlled clinical trial., METHODS: The infants were randomized into low-dose and high-dose vitamin D groups, and serum calcium, inorganic phosphorus and 25-hydroxyvitamin D levels were detected thrice in 4 months. Infants infected with influenza A were monitored for symptoms including fever, cough, and wheezing. Pathogen levels and safety of vitamin D treatment were also evaluated., RESULTS: Of 121 cases in total, 78 and 43 cases of influenza A infection occurred in the low-dose and high-dose vitamin D groups, respectively. There was a significant difference between the groups (chi = 14.6324, P = 0.0001). Among the cases of influenza infection, the median durations for fever, cough, and wheezing were shorter in the high-dose vitamin D group than in the low-dose vitamin D group. The viral loads showed a downward trend in both groups, and were significantly different between the groups at the second and third detections. Additionally, the incidences of adverse events and severe adverse events were very low and not significantly different between the two groups., CONCLUSION: High-dose vitamin D (1200 IU) is suitable for the prevention of seasonal influenza as evidenced by rapid relief from symptoms, rapid decrease in viral loads, and disease recovery. In addition, high-dose vitamin D is probably safe for infants.This is an open-access article distributed under the terms of the Creative Commons Attribution-Non Commercial-No Derivatives License 4.0 (CCBY-NC-ND), where it is permissible to download and share the work provided it is properly cited. The work cannot be changed in any way or used commercially without permission from the journal.\n",
      "\n",
      "=== Keywords ===\n",
      "dose 0.406\n",
      "groups 0.283\n",
      "cases 0.255\n",
      "high 0.246\n",
      "vitamin 0.234\n",
      "open 0.199\n",
      "infants 0.196\n",
      "low 0.186\n",
      "infection 0.178\n",
      "symptoms 0.175\n"
     ]
    }
   ],
   "source": [
    "#treating ea. abstract in ea. review as a document\n",
    "\n",
    "for key, review in reviews.items():\n",
    "    print('\\n******** '+key+' ********')\n",
    "    corpus = review['Abstract']\n",
    "    \n",
    "    cv = CountVectorizer(max_df=0.85, stop_words=stop, max_features=1000)\n",
    "    word_count_vector = cv.fit_transform(corpus)\n",
    "    \n",
    "    tfidf_transformer = TfidfTransformer(smooth_idf=True,use_idf=True)\n",
    "    tfidf_transformer.fit(word_count_vector)\n",
    "  \n",
    "\n",
    "    feature_names = cv.get_feature_names()\n",
    "    \n",
    "    # change this line to whatever document you want to extract keywords from!!\n",
    "    doc = review['Abstract'].iloc[0]\n",
    "\n",
    "\n",
    "    tf_idf_vector = tfidf_transformer.transform(cv.transform([doc]))\n",
    "    sorted_items = sort_coo(tf_idf_vector.tocoo())\n",
    "\n",
    "    keywords = extract_topn_from_vector(feature_names,sorted_items,10)\n",
    "\n",
    "    # now print the results\n",
    "    print(\"\\n===== Doc =====\")\n",
    "    print(doc)\n",
    "    print(\"\\n=== Keywords ===\")\n",
    "    for k in keywords:\n",
    "        print(k,keywords[k])\n",
    "\n",
    " "
   ]
  },
  {
   "cell_type": "markdown",
   "metadata": {},
   "source": [
    "# Sentiment Analysis (Brief) "
   ]
  },
  {
   "cell_type": "markdown",
   "metadata": {},
   "source": [
    "Is there a link between sentiment and class label = 1?"
   ]
  },
  {
   "cell_type": "code",
   "execution_count": null,
   "metadata": {},
   "outputs": [],
   "source": []
  }
 ],
 "metadata": {
  "kernelspec": {
   "display_name": "Python 3",
   "language": "python",
   "name": "python3"
  },
  "language_info": {
   "codemirror_mode": {
    "name": "ipython",
    "version": 3
   },
   "file_extension": ".py",
   "mimetype": "text/x-python",
   "name": "python",
   "nbconvert_exporter": "python",
   "pygments_lexer": "ipython3",
   "version": "3.7.1"
  }
 },
 "nbformat": 4,
 "nbformat_minor": 2
}
